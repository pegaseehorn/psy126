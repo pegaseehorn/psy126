{
 "cells": [
  {
   "cell_type": "markdown",
   "metadata": {
    "id": "blLUzc4ujiDI"
   },
   "source": [
    "# 8.3 Confirmatory Multidimensional IRT\n",
    "\n",
    "In this section, we illustrate how MIRT models can be fitted in a confirmatory way.\n",
    "As in CFA, we assign items to load on a particular dimension. We use once more\n",
    "the *polytomous* ASTI dataset and assign the items to the following five\n",
    "factors, based on the underlying ASTI theory: self-knowledge and integration (**si**),\n",
    "peace of mind (**pm**), non-attachment (**na**), self-transcendence (**st**), and presence\n",
    "in the here-and-now and growth (pg), as described in Koller et al. (2017). We fit a\n",
    "multidimensional GRM (5 dimensions).\n",
    "\n",
    "## Fit the model\n",
    "\n",
    "Note that the `mirt` model specification syntax is a bit different from `lavaan`.\n",
    "Below we specify the item assignments to the factors and the corresponding\n",
    "covariance structure of the latent variables (we allow for a full correlation pattern).  \n",
    "\n",
    "Load and inspect the `ASTI` dataset. Next, extract a subset that contains all rows but only the first 25 (1:25) columns of `ASTI`. Name the subset `itasti`.  \n",
    "\n",
    "The model has already been specified for you. You only need to fit it. To do that, use the `mirt` function, providing the following inputs: the `data` (`itasti`), the `model` (`modASTI`), the `itemtype` (you can leave the other inputs as they are). As we use *polytomous* data we have to set the this argument to `graded`."
   ]
  },
  {
   "cell_type": "code",
   "execution_count": null,
   "metadata": {
    "colab": {
     "base_uri": "https://localhost:8080/"
    },
    "executionInfo": {
     "elapsed": 107412,
     "status": "ok",
     "timestamp": 1741971380543,
     "user": {
      "displayName": "Tim Dreßler",
      "userId": "10678244503421566183"
     },
     "user_tz": -60
    },
    "id": "sdaQzlcxjxsV",
    "outputId": "2cafd5fb-3e9b-4e8e-b7f6-a32042648947"
   },
   "outputs": [
    {
     "name": "stdout",
     "output_type": "stream",
     "text": [
      "   ASTI1  ASTI2  ASTI3  ASTI4  ASTI5  ASTI6  ASTI7  ASTI8  ASTI9  ASTI10  ...  \\\n",
      "1    1.0    2.0    2.0    3.0    3.0    1.0    2.0    1.0    3.0     2.0  ...   \n",
      "2    2.0    2.0    3.0    2.0    3.0    1.0    2.0    1.0    3.0     2.0  ...   \n",
      "3    1.0    1.0    0.0    1.0    2.0    1.0    0.0    2.0    2.0     1.0  ...   \n",
      "4    1.0    2.0    2.0    3.0    1.0    2.0    2.0    2.0    1.0     1.0  ...   \n",
      "5    2.0    3.0    2.0    3.0    1.0    1.0    3.0    1.0    3.0     1.0  ...   \n",
      "\n",
      "   ASTI16  ASTI17  ASTI18  ASTI19  ASTI20  ASTI21  ASTI22  ASTI23  ASTI24  \\\n",
      "1     3.0     0.0     1.0     1.0     0.0     1.0     1.0     2.0     0.0   \n",
      "2     2.0     2.0     2.0     1.0     2.0     1.0     1.0     1.0     1.0   \n",
      "3     1.0     2.0     2.0     2.0     1.0     0.0     2.0     2.0     1.0   \n",
      "4     3.0     0.0     3.0     2.0     1.0     1.0     1.0     2.0     0.0   \n",
      "5     3.0     1.0     2.0     2.0     0.0     0.0     2.0     2.0     1.0   \n",
      "\n",
      "   ASTI25  \n",
      "1     2.0  \n",
      "2     1.0  \n",
      "3     2.0  \n",
      "4     1.0  \n",
      "5     0.0  \n",
      "\n",
      "[5 rows x 25 columns]\n"
     ]
    }
   ],
   "source": [
    "ro.r('data(\"ASTI\")')\n",
    "# Convert to Python\n",
    "ASTI = pandas2ri.rpy2py(ro.globalenv['ASTI'])\n",
    "\n",
    "# Eliminate first item (misfit)\n",
    "itasti = ASTI.loc[:, ASTI.columns[:25]]\n",
    "print(itasti.head())\n",
    "\n",
    "# Put data into R\n",
    "ro.globalenv['itasti'] = itasti\n",
    "\n",
    "# Specifiy the model\n",
    "ro.r('modASTI <- \"'\n",
    "      'si = 10,19,20,21\\n'\n",
    "      'pm = 1,5,9,22\\n'\n",
    "      'na = 3,6,8,12\\n'\n",
    "      'st = 2,4,7,13,16,24,25\\n'\n",
    "      'pg = 11,14,15,17,18,23\\n'\n",
    "      'COV = si*pm*na*st*pg\"')\n",
    "\n",
    "#fit the model\n",
    "ro.r(\"asti5d <- mirt(itasti, model = modASTI, itemtype = 'graded', method = 'MHRM', SE.type = 'MHRM', verbose = FALSE)\")"
   ]
  },
  {
   "cell_type": "markdown",
   "metadata": {
    "id": "NyJIVtpTlo_y"
   },
   "source": [
    "Compared to the 2D-2PL from above, here we use a different estimation\n",
    "algorithm which is suggested to employ for higher-dimensional models.\n",
    "First, we print out correlation matrix of the trait dimensions. Second, from the\n",
    "loadings in `astisum$rotF`, we see that item 18 (“I often lose myself in what I\n",
    "am doing”) has a very small loading on the personal growth dimension and could\n",
    "therefore be subject to elimination.\n",
    "To show this, we run the following code chunk.\n",
    "\n",
    "## Inspect the model"
   ]
  },
  {
   "cell_type": "code",
   "execution_count": null,
   "metadata": {
    "colab": {
     "base_uri": "https://localhost:8080/"
    },
    "executionInfo": {
     "elapsed": 47,
     "status": "ok",
     "timestamp": 1741971487024,
     "user": {
      "displayName": "Tim Dreßler",
      "userId": "10678244503421566183"
     },
     "user_tz": -60
    },
    "id": "CS9mRcj6lpUu",
    "outputId": "22853b1b-d315-4ab8-9ed2-b68c87746fe9"
   },
   "outputs": [
    {
     "name": "stdout",
     "output_type": "stream",
     "text": [
      "[[1.    0.712 0.232 0.122 0.838]\n",
      " [0.712 1.    0.547 0.166 0.77 ]\n",
      " [0.232 0.547 1.    0.139 0.196]\n",
      " [0.122 0.166 0.139 1.    0.336]\n",
      " [0.838 0.77  0.196 0.336 1.   ]]\n",
      "[ 0.      0.      0.      0.     -0.0074]\n"
     ]
    }
   ],
   "source": [
    "ro.r(\"astisum <- summary(asti5d, verbose = FALSE)\")\n",
    "print(ro.r(\"round(astisum$fcor, 3)\")) # Correlation matrix\n",
    "\n",
    "print(ro.r('round(astisum$rotF[\"ASTI18\",], 4)')) # Loadings of item ASTI18"
   ]
  },
  {
   "cell_type": "markdown",
   "metadata": {
    "id": "0Y3nSpAtl9cf"
   },
   "source": [
    "## Inspect model fit\n",
    "\n",
    "Again, let us compute the M2 statistic, including the CFA/SEM fit indices.\n",
    "Run the following code chunk."
   ]
  },
  {
   "cell_type": "code",
   "execution_count": null,
   "metadata": {
    "colab": {
     "base_uri": "https://localhost:8080/"
    },
    "executionInfo": {
     "elapsed": 7322,
     "status": "ok",
     "timestamp": 1741971542710,
     "user": {
      "displayName": "Tim Dreßler",
      "userId": "10678244503421566183"
     },
     "user_tz": -60
    },
    "id": "TU0oW4SNl-aB",
    "outputId": "a977c815-1bb5-4771-e24f-87dc0fbe31e7"
   },
   "outputs": [
    {
     "name": "stderr",
     "output_type": "stream",
     "text": [
      "Exception ignored from cffi callback <function _processevents at 0x79cec146d620>:\n",
      "Traceback (most recent call last):\n",
      "  File \"/usr/local/lib/python3.11/dist-packages/rpy2/rinterface_lib/callbacks.py\", line 283, in _processevents\n",
      "    @ffi_proxy.callback(ffi_proxy._processevents_def,\n",
      "    \n",
      "KeyboardInterrupt: \n"
     ]
    },
    {
     "name": "stdout",
     "output_type": "stream",
     "text": [
      "            M2  df p      RMSEA    RMSEA_5   RMSEA_95      SRMSR       TLI\n",
      "stats 907.4895 228 0 0.05140074 0.04789892 0.05490454 0.06055476 0.8187901\n",
      "            CFI\n",
      "stats 0.8429055\n",
      "\n"
     ]
    }
   ],
   "source": [
    "print(ro.r(\"M2(asti5d, QMC = TRUE)\"))"
   ]
  },
  {
   "cell_type": "markdown",
   "metadata": {
    "id": "Hq95SmbCmIVg"
   },
   "source": [
    "The global fit indices and model test suggest a poor model fit.  \n",
    "\n",
    "For such complex scenarios, an exploratory version of the model with oblique\n",
    "rotation would give us the possibility to explore in more detail what is going\n",
    "on. Another good strategy, before even considering fitting a confirmatory MIRT\n",
    "model, is to compute unidimensional models for each subscale individually and\n",
    "eliminate misfitting items already at that level. The items kept in the model can be\n",
    "subsequently subject to a higher-dimensional IRT fit.\n",
    "\n",
    "## End of todays session\n",
    "\n",
    "![ ](data:image/png;base64,iVBORw0KGgoAAAANSUhEUgAAAWMAAACOCAMAAADTsZk7AAAAS1BMVEX///8AAACVlZWbm5uenp5dXV3S0tJZWVnW1tYGBgajo6PV1dXZ2dliYmLR0dFWVlaRkZFNTU1LS0u5ubl6enpxcXHf399/f3+4uLjnRSI0AAAE40lEQVR4nO2d0XLaMBBFg22wE7sIB5L2/7+0kE5dtCvJa1XXOMndpzZz57A60MxUi6WnZ1E79yTrZSczB5XZ7cpgZKQ1YI7zmL2KNCrT53RTq0ynMk/PO1EhObICq5rHNDkYvSoYJuB4HlMbMHSckGPAbN5x6FdOhhw6TqyKjqei4ziGjhdh6DiBoePEquh4KjqOY+h4EYaOExg6TqyKjqei4ziGjhdh6DiB2bxjgxzt2CBnNGCyVgV7q/TGrwFjcuz8at3b++BV916PIjSebz+/zwyvIuLevMCtwph7yCAx124EJNaNH5KRWzdeO12wm7vMx58M3VTylXQ3g5b+rt6Zk8rsVQaFGVSkUpn2gZg6B2OS82OeozF6VQaMRU4hjOEd71REOzZgSjleUQ4d4+XQMV4OHePl0DFeDh3j5dAxXg4d4+XQMV4OHePl0DFeDh3j5dAxXg4d4+V8TcdZ+8dZq4JhsuRk7h+/yKorVSqjIw0I06jIqUw3ChN4pRxMoJu8QZxhgvaqIllTykKjVwvGMM/TGD3Py30eRIbWm0uHHpaRZejGgskavdbKDWf/CQy/X5HA0HFiVXQ8FR3HMXS8CEPHCQwdJ1ZFx1PRcRxDx4swdJzA0HFiVXQ8FR3HMRtznIUJncNSBFNsT0hWrmM/FDxdxoIpJCejG8tbhdt3U5xCD3JoTNa/TgvGsPFrwehnCgwY/TkOPJpwkHVu96JO/dFLHLuLzLijiBzOTkTaK+Z4nzh0P+UrOZ8S6qatOhHqLxqju/khMbKbEEZ1oxZVdSLSKzd673pjzyoUmudZBnHrYb7LXDpLDmf/izB0/AgMHeMxdIzH0DEeQ8d4DB3jMXSMx9AxHkPHeAwd4zF0jMd8Psc8IySO+ZqfYy1n844NZ+ZYPsdZJ/joblwORneThdGOAxj1E/2QQdYgzvKsggFjme4UwmQdqFapDO+uSGAKzf435pjfr5iKjuMYOl6EoeMEho4Tq6Ljqeg4jqHjRRg6TmDoOLEqOp6KjuMYOl6EoeMEho7xcugYL2fzjg1yCt1dATukZvNn3bRefdzP0Pk11M75qfGXyPTDx00Q/zC32yJ6Eamd4Ixn8UrdDTPXTeVT3D7UTethnML86cZrWHfzcQWGx7nMdONui5KZgPQVZ01Z052sbmCzpixMuZmp/E3/2Ll0kW6+71y60FUufOYGj9nY7H9bcugYL4eO8XLoGC+HjvFy6Bgvh47xcugYL4eO8XLoGC+HjvFy6Bgv55FbS9qxoZs1n7lZ7+6KzEsnCmGa2q/r3xtRVd3IjIw0MlJLTH3FyEAVeKnZbk7z3ahWVDuhbtRLaUSgm7l1X2vFs8eyMCvO8wxnj1nmeYGzxziX/luc/eMxX9Mxvyc0FR3HMXS8CEPHCQwdJ1ZFx1PRcRxDx4swdJzA0HFiVXQ8FR3HMZt3zP9LT0XHcQzOcaHdxO/iWGUs5wll3X1caBu60EFAhfaP9XlCgf3jXlTn389we8jhNPiRQ3dxbXsfacdDAONd4qAx/SCveWjHo8a0/ku5SmCOV8x8N6PsRmJ6dSFH6w69AM130/tuzHdXbP3SCc6lE6v6dPcq8FmF/8Twc4zH0DEeQ8d4DB3jMXSMx9AxHkPHeAwd4zF0jMfQMR5Dx3gMHeMxdIzH0DEeA3P8G6Fk7RhGA5APAAAAAElFTkSuQmCC) \\\n",
    "\n",
    "Congrats! You have now finished the RMD on Multidimensional IRT. If you have any question that we did not cover in class, feel free to either post it on the forum section or to come to our open office ours on Wednesday 10-11 a.m. and/or Friday 01-02 p.m."
   ]
  }
 ],
 "metadata": {
  "colab": {
   "provenance": [
    {
     "file_id": "1shSM8oE3V3nElvkpfKPtfJNamsVKnTSR",
     "timestamp": 1741293629262
    },
    {
     "file_id": "1oY59GO8mlzEJZlf-csY2pKRUXDCCIMFo",
     "timestamp": 1741164113567
    },
    {
     "file_id": "1_Hdy9GX2W03RQoKnijnEid9-KJzzTmJi",
     "timestamp": 1740862927421
    }
   ]
  },
  "kernelspec": {
   "display_name": "Python 3",
   "name": "python3"
  },
  "language_info": {
   "name": "python"
  }
 },
 "nbformat": 4,
 "nbformat_minor": 0
}
