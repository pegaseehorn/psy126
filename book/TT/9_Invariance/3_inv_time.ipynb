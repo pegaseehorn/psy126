{
 "cells": [
  {
   "cell_type": "markdown",
   "metadata": {},
   "source": [
    "# 7.3 Invariance Over Time\n",
    "## Measurement invariance across time for quantitative item responses"
   ]
  },
  {
   "cell_type": "code",
   "execution_count": null,
   "metadata": {
    "colab": {
     "base_uri": "https://localhost:8080/"
    },
    "executionInfo": {
     "elapsed": 11164,
     "status": "ok",
     "timestamp": 1741899968424,
     "user": {
      "displayName": "Tim Dreßler",
      "userId": "10678244503421566183"
     },
     "user_tz": -60
    },
    "id": "E57mXg5eZssL",
    "outputId": "8fd66f68-9b43-4e4b-8c37-8573d6005039"
   },
   "outputs": [
    {
     "data": {
      "text/plain": [
       "rpy2.robjects.packages.Package as a <module 'Hmisc'>"
      ]
     },
     "execution_count": 2,
     "metadata": {},
     "output_type": "execute_result"
    }
   ],
   "source": [
    "# General imports\n",
    "import numpy as np\n",
    "import pandas as pd\n",
    "import matplotlib.pyplot as plt\n",
    "import seaborn as sns\n",
    "\n",
    "# Rpy2 imports\n",
    "from rpy2 import robjects as ro\n",
    "from rpy2.robjects import pandas2ri, numpy2ri\n",
    "from rpy2.robjects.packages import importr\n",
    "\n",
    "# Automatic conversion of arrays and dataframes\n",
    "pandas2ri.activate()\n",
    "numpy2ri.activate()\n",
    "\n",
    "# Set random seed for reproducibility\n",
    "ro.r('set.seed(123)')\n",
    "\n",
    "# Ipython extenrsion for magix plotting\n",
    "%load_ext rpy2.ipython\n",
    "\n",
    "# R imports\n",
    "importr('base')\n",
    "importr('lavaan')\n",
    "importr('semTools')\n",
    "importr('MPsychoR')\n",
    "importr('lordif')\n",
    "importr('Hmisc')"
   ]
  },
  {
   "cell_type": "markdown",
   "metadata": {
    "id": "-NnxEx6SiT_n"
   },
   "source": [
    "CFA can also be extended to longitudinal settings, where indicators are presented\n",
    "to the same individual at multiple points in time $t$. Across the time points,\n",
    "we can consider the same measurement invariance principles as in multigroup CFA\n",
    "(configural, weak, and strong invariance). However, in longitudinal CFA we need\n",
    "to account for **correlated residuals** (i.e. autoregressive effects) since we cannot assume that independence holds\n",
    "across time points.\n",
    "\n",
    "### Load, prepare and inspect the dataset"
   ]
  },
  {
   "cell_type": "code",
   "execution_count": 19,
   "metadata": {
    "colab": {
     "base_uri": "https://localhost:8080/"
    },
    "executionInfo": {
     "elapsed": 16,
     "status": "ok",
     "timestamp": 1741900049552,
     "user": {
      "displayName": "Tim Dreßler",
      "userId": "10678244503421566183"
     },
     "user_tz": -60
    },
    "id": "hg-MhIwPif7M",
    "outputId": "39c476e6-5aea-4d41-8d77-8e2deb259950"
   },
   "outputs": [
    {
     "name": "stdout",
     "output_type": "stream",
     "text": [
      "   I1.1996  I2.1996  I3.1996  I4.1996  I1.1997  I2.1997  I3.1997  I4.1997  \\\n",
      "1      2.0      2.0      4.0      4.0      1.0      1.0      4.0      1.0   \n",
      "2      1.0      1.0      2.0      2.0      1.0      1.0      2.0      3.0   \n",
      "3      1.0      1.0      1.0      1.0      1.0      1.0      1.0      1.0   \n",
      "4      2.0      2.0      3.0      3.0      2.0      2.0      2.0      2.0   \n",
      "5      1.0      1.0      6.0      4.0      7.0      1.0      1.0      1.0   \n",
      "\n",
      "   I1.1998  I2.1998  I3.1998  I4.1998  I1.1999  I2.1999  I3.1999  I4.1999  \\\n",
      "1      2.0      1.0      4.0      2.0      2.0      3.0      3.0      1.0   \n",
      "2      4.0      2.0      5.0      4.0      3.0      2.0      4.0      4.0   \n",
      "3      1.0      1.0      2.0      1.0      1.0      1.0      6.0      1.0   \n",
      "4      2.0      2.0      2.0      2.0      2.0      1.0      1.0      1.0   \n",
      "5      1.0      1.0      4.0      1.0      4.0      1.0      3.0      2.0   \n",
      "\n",
      "   I1.2000  I2.2000  I3.2000  I4.2000  \n",
      "1      2.0      1.0      5.0      3.0  \n",
      "2      1.0      1.0      3.0      3.0  \n",
      "3      1.0      1.0      5.0      1.0  \n",
      "4      1.0      1.0      1.0      1.0  \n",
      "5      1.0      1.0      3.0      2.0  \n"
     ]
    }
   ],
   "source": [
    "ro.r('data(\"SDOwave\")')\n",
    "# Convert to Python\n",
    "SDOwave = pandas2ri.rpy2py(ro.globalenv['SDOwave'])\n",
    "print(SDOwave.head())"
   ]
  },
  {
   "cell_type": "markdown",
   "metadata": {
    "id": "i9pVFo4PigHX"
   },
   "source": [
    "#### The dataset\n",
    "\n",
    "To illustrate longitudinal CFA, we use a dataset on social dominance orientation\n",
    "(SDO; Sidanius and Pratto, 2001). SDO is assessed on the same individuals from\n",
    "1996 to 2000 (Sidanius et al., 2010), involving the following four items, scored on a 7-point scale:  \n",
    "\n",
    "* It is probably a good thing that certain groups are at the top and other groups are at the bottom (I1).\n",
    "\n",
    "* Inferior groups should stay in their place (I2).\n",
    "\n",
    "* We should do what we can to equalize conditions for different groups (I3, reversed).\n",
    "\n",
    "* Increased social equality is beneficial to society (I4, reversed).\n",
    "\n",
    "For the moment, let us consider a simple latent variable structure where all four\n",
    "items load on a general SDO dimension. We pick 2 years only: 1996 vs. 1998.  \n",
    "\n",
    "The most relevant model within this context is the **strong/scale invariance model**, which allows us to compare the latent means across the two time points. We restrict the factor loadings as well as the corresponding intercepts of each item to be equal in both measurement occasions (**strong/scale invariance**). Also, we need to allow for residual covariances (using the `~~` symbol in the syntax) for each item across time points. With this we account for autoregressive effects, which has to be done when modeling longitudinal data.\n",
    "\n",
    "### Fit the models\n",
    "\n",
    "We will start with the scale invariance model and work our way down to lower levels of measurement invariance. (We exclude the strict invariance model here).\n",
    "\n",
    "We will start with the scale invariance model and work our way down to lower levels of measurement invariance. (We exclude the strict invariance model here).\n",
    "\n",
    "#### Scale Invariance"
   ]
  },
  {
   "cell_type": "code",
   "execution_count": 20,
   "metadata": {
    "colab": {
     "base_uri": "https://localhost:8080/"
    },
    "executionInfo": {
     "elapsed": 595,
     "status": "ok",
     "timestamp": 1741900248676,
     "user": {
      "displayName": "Tim Dreßler",
      "userId": "10678244503421566183"
     },
     "user_tz": -60
    },
    "id": "a4EUpBoNiylc",
    "outputId": "d1c038f3-c035-49f8-811b-424e4612580b"
   },
   "outputs": [
    {
     "name": "stdout",
     "output_type": "stream",
     "text": [
      "lavaan 0.6-19 ended normally after 45 iterations\n",
      "\n",
      "  Estimator                                         ML\n",
      "  Optimization method                           NLMINB\n",
      "  Number of model parameters                        30\n",
      "  Number of equality constraints                     7\n",
      "\n",
      "  Number of observations                           612\n",
      "\n",
      "Model Test User Model:\n",
      "                                              Standard      Scaled\n",
      "  Test Statistic                               315.748     203.519\n",
      "  Degrees of freedom                                21          21\n",
      "  P-value (Chi-square)                           0.000       0.000\n",
      "  Scaling correction factor                                  1.551\n",
      "    Yuan-Bentler correction (Mplus variant)                       \n",
      "\n",
      "Model Test Baseline Model:\n",
      "\n",
      "  Test statistic                              1993.536    1098.021\n",
      "  Degrees of freedom                                28          28\n",
      "  P-value                                        0.000       0.000\n",
      "  Scaling correction factor                                  1.816\n",
      "\n",
      "User Model versus Baseline Model:\n",
      "\n",
      "  Comparative Fit Index (CFI)                    0.850       0.829\n",
      "  Tucker-Lewis Index (TLI)                       0.800       0.773\n",
      "                                                                  \n",
      "  Robust Comparative Fit Index (CFI)                         0.854\n",
      "  Robust Tucker-Lewis Index (TLI)                            0.806\n",
      "\n",
      "Loglikelihood and Information Criteria:\n",
      "\n",
      "  Loglikelihood user model (H0)              -7384.052   -7384.052\n",
      "  Scaling correction factor                                  1.434\n",
      "      for the MLR correction                                      \n",
      "  Loglikelihood unrestricted model (H1)      -7226.178   -7226.178\n",
      "  Scaling correction factor                                  1.718\n",
      "      for the MLR correction                                      \n",
      "                                                                  \n",
      "  Akaike (AIC)                               14814.104   14814.104\n",
      "  Bayesian (BIC)                             14915.689   14915.689\n",
      "  Sample-size adjusted Bayesian (SABIC)      14842.669   14842.669\n",
      "\n",
      "Root Mean Square Error of Approximation:\n",
      "\n",
      "  RMSEA                                          0.151       0.119\n",
      "  90 Percent confidence interval - lower         0.137       0.107\n",
      "  90 Percent confidence interval - upper         0.166       0.131\n",
      "  P-value H_0: RMSEA <= 0.050                    0.000       0.000\n",
      "  P-value H_0: RMSEA >= 0.080                    1.000       1.000\n",
      "                                                                  \n",
      "  Robust RMSEA                                               0.148\n",
      "  90 Percent confidence interval - lower                     0.130\n",
      "  90 Percent confidence interval - upper                     0.167\n",
      "  P-value H_0: Robust RMSEA <= 0.050                         0.000\n",
      "  P-value H_0: Robust RMSEA >= 0.080                         1.000\n",
      "\n",
      "Standardized Root Mean Square Residual:\n",
      "\n",
      "  SRMR                                           0.096       0.096\n",
      "\n",
      "Parameter Estimates:\n",
      "\n",
      "  Standard errors                             Sandwich\n",
      "  Information bread                           Observed\n",
      "  Observed information based on                Hessian\n",
      "\n",
      "Latent Variables:\n",
      "                   Estimate  Std.Err  z-value  P(>|z|)   Std.lv  Std.all\n",
      "  SDO1996 =~                                                            \n",
      "    I1.1996           1.000                               0.434    0.319\n",
      "    I2.1996   (a2)    0.790    0.101    7.842    0.000    0.343    0.302\n",
      "    I3.1996   (a3)    2.949    0.326    9.042    0.000    1.281    0.845\n",
      "    I4.1996   (a4)    2.965    0.353    8.389    0.000    1.288    0.952\n",
      "  SDO1998 =~                                                            \n",
      "    I1.1998           1.000                               0.407    0.326\n",
      "    I2.1998   (a2)    0.790    0.101    7.842    0.000    0.322    0.308\n",
      "    I3.1998   (a3)    2.949    0.326    9.042    0.000    1.200    0.813\n",
      "    I4.1998   (a4)    2.965    0.353    8.389    0.000    1.207    0.930\n",
      "\n",
      "Covariances:\n",
      "                   Estimate  Std.Err  z-value  P(>|z|)   Std.lv  Std.all\n",
      "  SDO1996 ~~                                                            \n",
      "    SDO1998           0.098    0.023    4.275    0.000    0.552    0.552\n",
      " .I1.1996 ~~                                                            \n",
      "   .I1.1998           0.425    0.075    5.697    0.000    0.425    0.280\n",
      " .I2.1996 ~~                                                            \n",
      "   .I2.1998           0.258    0.072    3.594    0.000    0.258    0.240\n",
      " .I3.1996 ~~                                                            \n",
      "   .I3.1998           0.220    0.076    2.911    0.004    0.220    0.316\n",
      " .I4.1996 ~~                                                            \n",
      "   .I4.1998          -0.109    0.052   -2.078    0.038   -0.109   -0.555\n",
      "\n",
      "Intercepts:\n",
      "                   Estimate  Std.Err  z-value  P(>|z|)   Std.lv  Std.all\n",
      "   .I1.1996 (int1)    2.064    0.045   45.732    0.000    2.064    1.516\n",
      "   .I1.1998 (int1)    2.064    0.045   45.732    0.000    2.064    1.654\n",
      "   .I2.1996 (int2)    1.633    0.039   42.279    0.000    1.633    1.438\n",
      "   .I2.1998 (int2)    1.633    0.039   42.279    0.000    1.633    1.562\n",
      "   .I3.1996 (int3)    2.765    0.060   46.233    0.000    2.765    1.825\n",
      "   .I3.1998 (int3)    2.765    0.060   46.233    0.000    2.765    1.874\n",
      "   .I4.1996 (int4)    2.428    0.054   44.827    0.000    2.428    1.795\n",
      "   .I4.1998 (int4)    2.428    0.054   44.827    0.000    2.428    1.872\n",
      "    SDO1996           0.000                               0.000    0.000\n",
      "    SDO1998          -0.047    0.019   -2.432    0.015   -0.115   -0.115\n",
      "\n",
      "Variances:\n",
      "                   Estimate  Std.Err  z-value  P(>|z|)   Std.lv  Std.all\n",
      "   .I1.1996           1.664    0.126   13.170    0.000    1.664    0.898\n",
      "   .I2.1996           1.172    0.131    8.960    0.000    1.172    0.909\n",
      "   .I3.1996           0.656    0.103    6.377    0.000    0.656    0.286\n",
      "   .I4.1996           0.170    0.079    2.145    0.032    0.170    0.093\n",
      "   .I1.1998           1.391    0.104   13.370    0.000    1.391    0.894\n",
      "   .I2.1998           0.989    0.144    6.874    0.000    0.989    0.905\n",
      "   .I3.1998           0.739    0.102    7.275    0.000    0.739    0.339\n",
      "   .I4.1998           0.226    0.082    2.756    0.006    0.226    0.134\n",
      "    SDO1996           0.189    0.043    4.363    0.000    1.000    1.000\n",
      "    SDO1998           0.166    0.035    4.756    0.000    1.000    1.000\n",
      "\n",
      "\n"
     ]
    }
   ],
   "source": [
    "# Specify the model\n",
    "ro.r('model_scale <- \"'\n",
    "      'SDO1996 =~ 1*I1.1996 + a2*I2.1996 + a3*I3.1996 + a4*I4.1996\\n'\n",
    "      'SDO1998 =~ 1*I1.1998 + a2*I2.1998 + a3*I3.1998 + a4*I4.1998\\n'\n",
    "      'SDO1996 ~~ SDO1998\\n'\n",
    "      'I1.1996 ~ int1*1; I1.1998 ~ int1*1\\n'\n",
    "      'I2.1996 ~ int2*1; I2.1998 ~ int2*1\\n'\n",
    "      'I3.1996 ~ int3*1; I3.1998 ~ int3*1\\n'\n",
    "      'I4.1996 ~ int4*1; I4.1998 ~ int4*1\\n'\n",
    "      'I1.1996 ~~ I1.1998\\n'\n",
    "      'I2.1996 ~~ I2.1998\\n'\n",
    "      'I3.1996 ~~ I3.1998\\n'\n",
    "      'I4.1996 ~~ I4.1998\\n'\n",
    "      'SDO1996 ~ 0*1\\n'\n",
    "      'SDO1998 ~ 1\"')\n",
    "\n",
    "# Fit the model\n",
    "ro.r('fit_scale <- lavaan::cfa(model_scale, data = SDOwave, estimator = \"MLR\")')\n",
    "\n",
    "# Print the model output with fit measures and standardized estimates\n",
    "summary_fit_scale = ro.r('summary(fit_scale, fit.measures=TRUE, standardized=TRUE)')\n",
    "print(summary_fit_scale)"
   ]
  },
  {
   "cell_type": "markdown",
   "metadata": {
    "id": "lpHPtAwdW5SP"
   },
   "source": [
    "The parameters of main interest are the latent variable means (however, this has nothing to do with measurement invariance but can be used to compare latent score bewteen time points):"
   ]
  },
  {
   "cell_type": "code",
   "execution_count": 26,
   "metadata": {
    "colab": {
     "base_uri": "https://localhost:8080/"
    },
    "executionInfo": {
     "elapsed": 14,
     "status": "ok",
     "timestamp": 1741900501244,
     "user": {
      "displayName": "Tim Dreßler",
      "userId": "10678244503421566183"
     },
     "user_tz": -60
    },
    "id": "eY9j9wDIW5ui",
    "outputId": "a7530526-ddd0-4390-c388-ecce8d4539b4"
   },
   "outputs": [
    {
     "name": "stdout",
     "output_type": "stream",
     "text": [
      "       lhs op rhs label    est    se      z pvalue ci.lower ci.upper\n",
      "22 SDO1996 ~1            0.000 0.000     NA     NA    0.000    0.000\n",
      "23 SDO1998 ~1           -0.047 0.019 -2.432  0.015   -0.085   -0.009\n",
      "\n"
     ]
    }
   ],
   "source": [
    "print(ro.r(\"parameterEstimates(fit_scale)[22:23,]\"))"
   ]
  },
  {
   "cell_type": "markdown",
   "metadata": {
    "id": "ExxJrA45XKGP"
   },
   "source": [
    "We see that the mean for 1996 was fixed to 0 and is therefore used as the reference\n",
    "year. The second line suggests that there is a significant decrease in SDO from 1996\n",
    "to 1998.  \n",
    "\n",
    "Note that a **weak/metric invariance** version of this model can be fitted by *restricting both*\n",
    "*latent means to 0* and *freeing up the intercepts*. For a **configural invariance** version,\n",
    "the *loadings need to be freed up as well* (first two syntax lines). For a **strict invariance** version, *intercepts, loadings and residuals* need to be *fixed*.  \n",
    "If we do not want to do this by hand, the `longInvariance` function from `semTools` can be used\n",
    "to establish such a generic sequence (similar to the `measurementInvariance` function used above).\n",
    "Using the `anova` function, the models can be again tested against each other.  \n",
    "\n",
    "Let us fit a **weak/metric invariance** model.\n",
    "\n",
    "#### Metric Invariance\n",
    "\n",
    "Adapt the code from the scale model to fit a metric model by freeing up the intercepts and restrict both latent variables to zero. Name your model `model.metric`."
   ]
  },
  {
   "cell_type": "code",
   "execution_count": 27,
   "metadata": {
    "colab": {
     "base_uri": "https://localhost:8080/"
    },
    "executionInfo": {
     "elapsed": 803,
     "status": "ok",
     "timestamp": 1741900683289,
     "user": {
      "displayName": "Tim Dreßler",
      "userId": "10678244503421566183"
     },
     "user_tz": -60
    },
    "id": "mpi7xtuzXNh0",
    "outputId": "294e0d40-96e1-4291-a4e2-91a52e2396c2"
   },
   "outputs": [
    {
     "name": "stdout",
     "output_type": "stream",
     "text": [
      "lavaan 0.6-19 ended normally after 43 iterations\n",
      "\n",
      "  Estimator                                         ML\n",
      "  Optimization method                           NLMINB\n",
      "  Number of model parameters                        29\n",
      "  Number of equality constraints                     3\n",
      "\n",
      "  Number of observations                           612\n",
      "\n",
      "Model Test User Model:\n",
      "                                              Standard      Scaled\n",
      "  Test Statistic                               310.762     189.360\n",
      "  Degrees of freedom                                18          18\n",
      "  P-value (Chi-square)                           0.000       0.000\n",
      "  Scaling correction factor                                  1.641\n",
      "    Yuan-Bentler correction (Mplus variant)                       \n",
      "\n",
      "Model Test Baseline Model:\n",
      "\n",
      "  Test statistic                              1993.536    1098.021\n",
      "  Degrees of freedom                                28          28\n",
      "  P-value                                        0.000       0.000\n",
      "  Scaling correction factor                                  1.816\n",
      "\n",
      "User Model versus Baseline Model:\n",
      "\n",
      "  Comparative Fit Index (CFI)                    0.851       0.840\n",
      "  Tucker-Lewis Index (TLI)                       0.768       0.751\n",
      "                                                                  \n",
      "  Robust Comparative Fit Index (CFI)                         0.855\n",
      "  Robust Tucker-Lewis Index (TLI)                            0.775\n",
      "\n",
      "Loglikelihood and Information Criteria:\n",
      "\n",
      "  Loglikelihood user model (H0)              -7381.559   -7381.559\n",
      "  Scaling correction factor                                  1.588\n",
      "      for the MLR correction                                      \n",
      "  Loglikelihood unrestricted model (H1)      -7226.178   -7226.178\n",
      "  Scaling correction factor                                  1.718\n",
      "      for the MLR correction                                      \n",
      "                                                                  \n",
      "  Akaike (AIC)                               14815.117   14815.117\n",
      "  Bayesian (BIC)                             14929.952   14929.952\n",
      "  Sample-size adjusted Bayesian (SABIC)      14847.408   14847.408\n",
      "\n",
      "Root Mean Square Error of Approximation:\n",
      "\n",
      "  RMSEA                                          0.163       0.125\n",
      "  90 Percent confidence interval - lower         0.147       0.112\n",
      "  90 Percent confidence interval - upper         0.179       0.137\n",
      "  P-value H_0: RMSEA <= 0.050                    0.000       0.000\n",
      "  P-value H_0: RMSEA >= 0.080                    1.000       1.000\n",
      "                                                                  \n",
      "  Robust RMSEA                                               0.160\n",
      "  90 Percent confidence interval - lower                     0.140\n",
      "  90 Percent confidence interval - upper                     0.181\n",
      "  P-value H_0: Robust RMSEA <= 0.050                         0.000\n",
      "  P-value H_0: Robust RMSEA >= 0.080                         1.000\n",
      "\n",
      "Standardized Root Mean Square Residual:\n",
      "\n",
      "  SRMR                                           0.096       0.096\n",
      "\n",
      "Parameter Estimates:\n",
      "\n",
      "  Standard errors                             Sandwich\n",
      "  Information bread                           Observed\n",
      "  Observed information based on                Hessian\n",
      "\n",
      "Latent Variables:\n",
      "                   Estimate  Std.Err  z-value  P(>|z|)   Std.lv  Std.all\n",
      "  SDO1996 =~                                                            \n",
      "    I1.1996           1.000                               0.437    0.321\n",
      "    I2.1996   (a2)    0.781    0.101    7.726    0.000    0.341    0.301\n",
      "    I3.1996   (a3)    2.946    0.326    9.044    0.000    1.287    0.848\n",
      "    I4.1996   (a4)    2.938    0.348    8.447    0.000    1.284    0.950\n",
      "  SDO1998 =~                                                            \n",
      "    I1.1998           1.000                               0.410    0.328\n",
      "    I2.1998   (a2)    0.781    0.101    7.726    0.000    0.320    0.306\n",
      "    I3.1998   (a3)    2.946    0.326    9.044    0.000    1.206    0.816\n",
      "    I4.1998   (a4)    2.938    0.348    8.447    0.000    1.203    0.928\n",
      "\n",
      "Covariances:\n",
      "                   Estimate  Std.Err  z-value  P(>|z|)   Std.lv  Std.all\n",
      "  SDO1996 ~~                                                            \n",
      "    SDO1998           0.099    0.023    4.305    0.000    0.553    0.553\n",
      " .I1.1996 ~~                                                            \n",
      "   .I1.1998           0.425    0.075    5.700    0.000    0.425    0.279\n",
      " .I2.1996 ~~                                                            \n",
      "   .I2.1998           0.259    0.072    3.618    0.000    0.259    0.241\n",
      " .I3.1996 ~~                                                            \n",
      "   .I3.1998           0.217    0.076    2.871    0.004    0.217    0.316\n",
      " .I4.1996 ~~                                                            \n",
      "   .I4.1998          -0.104    0.052   -1.991    0.046   -0.104   -0.507\n",
      "\n",
      "Intercepts:\n",
      "                   Estimate  Std.Err  z-value  P(>|z|)   Std.lv  Std.all\n",
      "   .I1.1996           2.042    0.056   36.593    0.000    2.042    1.500\n",
      "   .I1.1998           2.034    0.050   40.688    0.000    2.034    1.630\n",
      "   .I2.1996           1.673    0.047   35.833    0.000    1.673    1.475\n",
      "   .I2.1998           1.564    0.042   37.580    0.000    1.564    1.498\n",
      "   .I3.1996           2.742    0.061   45.150    0.000    2.742    1.807\n",
      "   .I3.1998           2.655    0.061   43.803    0.000    2.655    1.797\n",
      "   .I4.1996           2.441    0.055   44.387    0.000    2.441    1.806\n",
      "   .I4.1998           2.273    0.052   43.523    0.000    2.273    1.753\n",
      "    SDO1996           0.000                               0.000    0.000\n",
      "    SDO1998           0.000                               0.000    0.000\n",
      "\n",
      "Variances:\n",
      "                   Estimate  Std.Err  z-value  P(>|z|)   Std.lv  Std.all\n",
      "   .I1.1996           1.663    0.127   13.068    0.000    1.663    0.897\n",
      "   .I2.1996           1.170    0.130    9.031    0.000    1.170    0.910\n",
      "   .I3.1996           0.646    0.105    6.166    0.000    0.646    0.280\n",
      "   .I4.1996           0.180    0.079    2.273    0.023    0.180    0.098\n",
      "   .I1.1998           1.390    0.104   13.420    0.000    1.390    0.892\n",
      "   .I2.1998           0.987    0.144    6.837    0.000    0.987    0.906\n",
      "   .I3.1998           0.729    0.100    7.310    0.000    0.729    0.334\n",
      "   .I4.1998           0.234    0.081    2.896    0.004    0.234    0.139\n",
      "    SDO1996           0.191    0.044    4.372    0.000    1.000    1.000\n",
      "    SDO1998           0.168    0.035    4.802    0.000    1.000    1.000\n",
      "\n",
      "\n"
     ]
    }
   ],
   "source": [
    "# Specify the model\n",
    "ro.r('model_metric <- \"'\n",
    "      'SDO1996 =~ 1*I1.1996 + a2*I2.1996 + a3*I3.1996 + a4*I4.1996\\n'\n",
    "      'SDO1998 =~ 1*I1.1998 + a2*I2.1998 + a3*I3.1998 + a4*I4.1998\\n'\n",
    "      'SDO1996 ~~ SDO1998\\n'\n",
    "      'I1.1996 ~ 1; I1.1998 ~ 1\\n'\n",
    "      'I2.1996 ~ 1; I2.1998 ~ 1\\n'\n",
    "      'I3.1996 ~ 1; I3.1998 ~ 1\\n'\n",
    "      'I4.1996 ~ 1; I4.1998 ~ 1\\n'\n",
    "      'I1.1996 ~~ I1.1998\\n'\n",
    "      'I2.1996 ~~ I2.1998\\n'\n",
    "      'I3.1996 ~~ I3.1998\\n'\n",
    "      'I4.1996 ~~ I4.1998\\n'\n",
    "      'SDO1996 ~ 0*1\\n'\n",
    "      'SDO1998 ~ 0*1\"')\n",
    "\n",
    "# Fit the model\n",
    "ro.r('fit_metric <- lavaan::cfa(model_metric, data = SDOwave, estimator = \"MLR\")')\n",
    "\n",
    "# Print the model output with fit measures and standardized estimates\n",
    "summary_fit_metric = ro.r('summary(fit_metric, fit.measures=TRUE, standardized=TRUE)')\n",
    "print(summary_fit_metric)"
   ]
  },
  {
   "cell_type": "markdown",
   "metadata": {
    "id": "9fqJ4FdvX2Wj"
   },
   "source": [
    "Note that the values in the `intercepts` section are now varying.\n",
    "\n",
    "Again, we can extract latent variable means (however, this has again nothing to do with measurement invariance):"
   ]
  },
  {
   "cell_type": "code",
   "execution_count": 28,
   "metadata": {
    "colab": {
     "base_uri": "https://localhost:8080/"
    },
    "executionInfo": {
     "elapsed": 9,
     "status": "ok",
     "timestamp": 1741900724333,
     "user": {
      "displayName": "Tim Dreßler",
      "userId": "10678244503421566183"
     },
     "user_tz": -60
    },
    "id": "3R5jwcURX2yB",
    "outputId": "a767fe13-85a7-47fc-cf22-e11a41bb57c0"
   },
   "outputs": [
    {
     "name": "stdout",
     "output_type": "stream",
     "text": [
      "       lhs op rhs label est se  z pvalue ci.lower ci.upper\n",
      "22 SDO1996 ~1             0  0 NA     NA        0        0\n",
      "23 SDO1998 ~1             0  0 NA     NA        0        0\n",
      "\n"
     ]
    }
   ],
   "source": [
    "print(ro.r(\"parameterEstimates(fit_metric)[22:23,]\"))"
   ]
  },
  {
   "cell_type": "markdown",
   "metadata": {
    "id": "tW2wYxfvYIsS"
   },
   "source": [
    "Let us continue with a **configural variance** model.\n",
    "\n",
    "#### Configural Invariance\n",
    "\n",
    "Adapt the code from the metric model to fit a configural model by freeing up the loadings as well (first two syntax lines). Name your model `model.configural`."
   ]
  },
  {
   "cell_type": "code",
   "execution_count": 29,
   "metadata": {
    "colab": {
     "base_uri": "https://localhost:8080/"
    },
    "executionInfo": {
     "elapsed": 1095,
     "status": "ok",
     "timestamp": 1741900838316,
     "user": {
      "displayName": "Tim Dreßler",
      "userId": "10678244503421566183"
     },
     "user_tz": -60
    },
    "id": "AbJuj8aSYKI_",
    "outputId": "eb5740c3-f871-46e0-de16-b6388a2042f3"
   },
   "outputs": [
    {
     "name": "stdout",
     "output_type": "stream",
     "text": [
      "lavaan 0.6-19 ended normally after 61 iterations\n",
      "\n",
      "  Estimator                                         ML\n",
      "  Optimization method                           NLMINB\n",
      "  Number of model parameters                        29\n",
      "\n",
      "  Number of observations                           612\n",
      "\n",
      "Model Test User Model:\n",
      "                                              Standard      Scaled\n",
      "  Test Statistic                               301.687     175.637\n",
      "  Degrees of freedom                                15          15\n",
      "  P-value (Chi-square)                           0.000       0.000\n",
      "  Scaling correction factor                                  1.718\n",
      "    Yuan-Bentler correction (Mplus variant)                       \n",
      "\n",
      "Model Test Baseline Model:\n",
      "\n",
      "  Test statistic                              1993.536    1098.021\n",
      "  Degrees of freedom                                28          28\n",
      "  P-value                                        0.000       0.000\n",
      "  Scaling correction factor                                  1.816\n",
      "\n",
      "User Model versus Baseline Model:\n",
      "\n",
      "  Comparative Fit Index (CFI)                    0.854       0.850\n",
      "  Tucker-Lewis Index (TLI)                       0.728       0.720\n",
      "                                                                  \n",
      "  Robust Comparative Fit Index (CFI)                         0.858\n",
      "  Robust Tucker-Lewis Index (TLI)                            0.735\n",
      "\n",
      "Loglikelihood and Information Criteria:\n",
      "\n",
      "  Loglikelihood user model (H0)              -7377.021   -7377.021\n",
      "  Scaling correction factor                                  1.719\n",
      "      for the MLR correction                                      \n",
      "  Loglikelihood unrestricted model (H1)      -7226.178   -7226.178\n",
      "  Scaling correction factor                                  1.718\n",
      "      for the MLR correction                                      \n",
      "                                                                  \n",
      "  Akaike (AIC)                               14812.043   14812.043\n",
      "  Bayesian (BIC)                             14940.128   14940.128\n",
      "  Sample-size adjusted Bayesian (SABIC)      14848.059   14848.059\n",
      "\n",
      "Root Mean Square Error of Approximation:\n",
      "\n",
      "  RMSEA                                          0.177       0.132\n",
      "  90 Percent confidence interval - lower         0.160       0.119\n",
      "  90 Percent confidence interval - upper         0.194       0.146\n",
      "  P-value H_0: RMSEA <= 0.050                    0.000       0.000\n",
      "  P-value H_0: RMSEA >= 0.080                    1.000       1.000\n",
      "                                                                  \n",
      "  Robust RMSEA                                               0.173\n",
      "  90 Percent confidence interval - lower                     0.151\n",
      "  90 Percent confidence interval - upper                     0.197\n",
      "  P-value H_0: Robust RMSEA <= 0.050                         0.000\n",
      "  P-value H_0: Robust RMSEA >= 0.080                         1.000\n",
      "\n",
      "Standardized Root Mean Square Residual:\n",
      "\n",
      "  SRMR                                           0.092       0.092\n",
      "\n",
      "Parameter Estimates:\n",
      "\n",
      "  Standard errors                             Sandwich\n",
      "  Information bread                           Observed\n",
      "  Observed information based on                Hessian\n",
      "\n",
      "Latent Variables:\n",
      "                   Estimate  Std.Err  z-value  P(>|z|)   Std.lv  Std.all\n",
      "  SDO1996 =~                                                            \n",
      "    I1.1996           1.000                               0.493    0.358\n",
      "    I2.1996           0.814    0.088    9.287    0.000    0.401    0.349\n",
      "    I3.1996           2.562    0.314    8.164    0.000    1.264    0.842\n",
      "    I4.1996           2.622    0.339    7.734    0.000    1.293    0.952\n",
      "  SDO1998 =~                                                            \n",
      "    I1.1998           1.000                               0.363    0.294\n",
      "    I2.1998           0.729    0.177    4.124    0.000    0.265    0.258\n",
      "    I3.1998           3.452    0.561    6.154    0.000    1.254    0.837\n",
      "    I4.1998           3.242    0.568    5.708    0.000    1.178    0.912\n",
      "\n",
      "Covariances:\n",
      "                   Estimate  Std.Err  z-value  P(>|z|)   Std.lv  Std.all\n",
      "  SDO1996 ~~                                                            \n",
      "    SDO1998           0.099    0.023    4.318    0.000    0.553    0.553\n",
      " .I1.1996 ~~                                                            \n",
      "   .I1.1998           0.423    0.074    5.745    0.000    0.423    0.279\n",
      " .I2.1996 ~~                                                            \n",
      "   .I2.1998           0.257    0.071    3.628    0.000    0.257    0.240\n",
      " .I3.1996 ~~                                                            \n",
      "   .I3.1998           0.210    0.075    2.813    0.005    0.210    0.316\n",
      " .I4.1996 ~~                                                            \n",
      "   .I4.1998          -0.095    0.052   -1.842    0.065   -0.095   -0.436\n",
      "\n",
      "Intercepts:\n",
      "                   Estimate  Std.Err  z-value  P(>|z|)   Std.lv  Std.all\n",
      "   .I1.1996           2.042    0.056   36.593    0.000    2.042    1.483\n",
      "   .I1.1998           2.034    0.050   40.688    0.000    2.034    1.649\n",
      "   .I2.1996           1.673    0.047   35.833    0.000    1.673    1.455\n",
      "   .I2.1998           1.564    0.042   37.580    0.000    1.564    1.520\n",
      "   .I3.1996           2.742    0.061   45.150    0.000    2.742    1.827\n",
      "   .I3.1998           2.655    0.061   43.803    0.000    2.655    1.771\n",
      "   .I4.1996           2.441    0.055   44.387    0.000    2.441    1.798\n",
      "   .I4.1998           2.273    0.052   43.523    0.000    2.273    1.761\n",
      "    SDO1996           0.000                               0.000    0.000\n",
      "    SDO1998           0.000                               0.000    0.000\n",
      "\n",
      "Variances:\n",
      "                   Estimate  Std.Err  z-value  P(>|z|)   Std.lv  Std.all\n",
      "   .I1.1996           1.652    0.128   12.945    0.000    1.652    0.872\n",
      "   .I2.1996           1.161    0.130    8.930    0.000    1.161    0.878\n",
      "   .I3.1996           0.655    0.097    6.771    0.000    0.655    0.291\n",
      "   .I4.1996           0.171    0.078    2.210    0.027    0.171    0.093\n",
      "   .I1.1998           1.390    0.103   13.489    0.000    1.390    0.913\n",
      "   .I2.1998           0.988    0.144    6.846    0.000    0.988    0.934\n",
      "   .I3.1998           0.675    0.114    5.925    0.000    0.675    0.300\n",
      "   .I4.1998           0.279    0.097    2.866    0.004    0.279    0.167\n",
      "    SDO1996           0.243    0.058    4.205    0.000    1.000    1.000\n",
      "    SDO1998           0.132    0.041    3.257    0.001    1.000    1.000\n",
      "\n",
      "\n"
     ]
    }
   ],
   "source": [
    "# Specify the model\n",
    "ro.r('model_configural <- \"'\n",
    "      'SDO1996 =~ 1*I1.1996 + I2.1996 + I3.1996 + I4.1996\\n'\n",
    "      'SDO1998 =~ 1*I1.1998 + I2.1998 + I3.1998 + I4.1998\\n'\n",
    "      'SDO1996 ~~ SDO1998\\n'\n",
    "      'I1.1996 ~ 1; I1.1998 ~ 1\\n'\n",
    "      'I2.1996 ~ 1; I2.1998 ~ 1\\n'\n",
    "      'I3.1996 ~ 1; I3.1998 ~ 1\\n'\n",
    "      'I4.1996 ~ 1; I4.1998 ~ 1\\n'\n",
    "      'I1.1996 ~~ I1.1998\\n'\n",
    "      'I2.1996 ~~ I2.1998\\n'\n",
    "      'I3.1996 ~~ I3.1998\\n'\n",
    "      'I4.1996 ~~ I4.1998\\n'\n",
    "      'SDO1996 ~ 0*1\\n'\n",
    "      'SDO1998 ~ 0*1\"')\n",
    "\n",
    "# Fit the model\n",
    "ro.r('fit_configural <- lavaan::cfa(model_configural, data = SDOwave, estimator = \"MLR\")')\n",
    "\n",
    "# Print the model output with fit measures and standardized estimates\n",
    "summary_fit_configural = ro.r('summary(fit_configural, fit.measures=TRUE, standardized=TRUE)')\n",
    "print(summary_fit_configural)"
   ]
  },
  {
   "cell_type": "markdown",
   "metadata": {
    "id": "K0pRi3lzYfri"
   },
   "source": [
    "#### Model Comparison\n",
    "\n",
    "To assess which model provides a better fit (and therefore to assess which level of measurement invariance holds) we can use the `anova()` function.  \n",
    "\n",
    "Let us first compare the **configural model** and the **metric model**."
   ]
  },
  {
   "cell_type": "code",
   "execution_count": 30,
   "metadata": {
    "colab": {
     "base_uri": "https://localhost:8080/"
    },
    "executionInfo": {
     "elapsed": 10,
     "status": "ok",
     "timestamp": 1741900906879,
     "user": {
      "displayName": "Tim Dreßler",
      "userId": "10678244503421566183"
     },
     "user_tz": -60
    },
    "id": "8n_UUEHyYj2J",
    "outputId": "00b5b2b3-eda5-4c53-a6de-f59e74ab8831"
   },
   "outputs": [
    {
     "name": "stdout",
     "output_type": "stream",
     "text": [
      "\n",
      "Scaled Chi-Squared Difference Test (method = “satorra.bentler.2001”)\n",
      "\n",
      "lavaan->lavTestLRT():  \n",
      "   lavaan NOTE: The “Chisq” column contains standard test statistics, not the \n",
      "   robust test that should be reported per model. A robust difference test is \n",
      "   a function of two standard (not robust) statistics.\n",
      "               Df   AIC   BIC  Chisq Chisq diff Df diff Pr(>Chisq)  \n",
      "fit_configural 15 14812 14940 301.69                                \n",
      "fit_metric     18 14815 14930 310.76     7.2119       3    0.06544 .\n",
      "---\n",
      "Signif. codes:  0 ‘***’ 0.001 ‘**’ 0.01 ‘*’ 0.05 ‘.’ 0.1 ‘ ’ 1\n",
      "\n"
     ]
    }
   ],
   "source": [
    "print(ro.r(\"anova(fit_configural, fit_metric)\"))"
   ]
  },
  {
   "cell_type": "markdown",
   "metadata": {
    "id": "F_a8vFFOYu8R"
   },
   "source": [
    "We see that the metric model fits worse than the configural model. This is no suprise as we include more restrictions in the metric model. However, the fit is not significantly worse (p = .0654) and the BIC even favors the metric model. From this we may conclude that metric invariance holds but there is a huge BUT (see below).\n",
    "\n",
    "Next, lets compare the **metric model** and the **scale model**."
   ]
  },
  {
   "cell_type": "code",
   "execution_count": 32,
   "metadata": {
    "colab": {
     "base_uri": "https://localhost:8080/"
    },
    "executionInfo": {
     "elapsed": 17,
     "status": "ok",
     "timestamp": 1741900962524,
     "user": {
      "displayName": "Tim Dreßler",
      "userId": "10678244503421566183"
     },
     "user_tz": -60
    },
    "id": "hKT2r74DYvfa",
    "outputId": "95a8e877-c63e-4412-e52b-38deaa18029f"
   },
   "outputs": [
    {
     "name": "stdout",
     "output_type": "stream",
     "text": [
      "\n",
      "Scaled Chi-Squared Difference Test (method = “satorra.bentler.2001”)\n",
      "\n",
      "lavaan->lavTestLRT():  \n",
      "   lavaan NOTE: The “Chisq” column contains standard test statistics, not the \n",
      "   robust test that should be reported per model. A robust difference test is \n",
      "   a function of two standard (not robust) statistics.\n",
      "           Df   AIC   BIC  Chisq Chisq diff Df diff Pr(>Chisq)\n",
      "fit_metric 18 14815 14930 310.76                              \n",
      "fit_scale  21 14814 14916 315.75     4.9207       3     0.1777\n",
      "\n"
     ]
    }
   ],
   "source": [
    "print(ro.r(\"anova(fit_metric, fit_scale)\"))"
   ]
  },
  {
   "cell_type": "markdown",
   "metadata": {
    "id": "D5hRDACoY4rL"
   },
   "source": [
    "From this comparison we can conclude that scale invariance holds as the scale model is not significantly worse than the metric model.  \n",
    "\n",
    "Now to the **BUT**: You can see in the model output of the **configural model** that the fit is quite bad (e.g. RMSEA =  0.177 (> .08)). This is not too surprising since research has shown that there are two subdimensions of SDO (Ho et al., 2015):\n",
    "anti-egalitarianism and dominance. According to the theory, the first two items are\n",
    "supposed to load on the dominance dimension (SDO-D), whereas the remaining two\n",
    "items load on anti-egalitarianism (SDO-E).  \n",
    "\n",
    "Therefore, we should be cautious with interpreting the comparisons above and first make sure that we find a good fitting model to our data."
   ]
  }
 ],
 "metadata": {
  "colab": {
   "provenance": [
    {
     "file_id": "1shSM8oE3V3nElvkpfKPtfJNamsVKnTSR",
     "timestamp": 1741293629262
    },
    {
     "file_id": "1oY59GO8mlzEJZlf-csY2pKRUXDCCIMFo",
     "timestamp": 1741164113567
    },
    {
     "file_id": "1_Hdy9GX2W03RQoKnijnEid9-KJzzTmJi",
     "timestamp": 1740862927421
    }
   ]
  },
  "kernelspec": {
   "display_name": "Python 3",
   "name": "python3"
  },
  "language_info": {
   "name": "python"
  }
 },
 "nbformat": 4,
 "nbformat_minor": 0
}
