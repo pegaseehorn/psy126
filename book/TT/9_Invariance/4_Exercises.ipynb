{
 "cells": [
  {
   "cell_type": "markdown",
   "id": "1228948d",
   "metadata": {},
   "source": [
    "## 1️⃣ Measurement Invariance by Age Group (Quantitative Data)\n",
    "\n",
    "**Goal:** Replicate the group invariance analysis by using a different grouping variable.\n",
    "\n",
    "**Instructions:**\n",
    "1. Re-run the `measurementInvariance()` function using `age_group` (or create one based on age) instead of `gender`.\n",
    "2. Compare the output to the original model grouped by gender.\n",
    "3. Comment on whether strict invariance is still supported under the new grouping."
   ]
  },
  {
   "cell_type": "code",
   "execution_count": null,
   "id": "d0f3f853",
   "metadata": {},
   "outputs": [],
   "source": [
    "# Import data\n",
    "\n",
    "# Use this code to create age groups\n",
    "ro.r('data(\"Bergh\")')                             # Load the Bergh dataset from R\n",
    "Bergh = pandas2ri.rpy2py(ro.globalenv['Bergh'])   # Convert the R dataframe to a pandas dataframe\n",
    "Bergh['age_group'] = pd.cut(Bergh['age'], bins=[0, 30, 50, 100], labels=[\"young\", \"middle\", \"older\"]) # Group ages into categories\n",
    "\n",
    "# Your code here:\n"
   ]
  },
  {
   "cell_type": "markdown",
   "id": "284bf308",
   "metadata": {},
   "source": [
    "## 2️⃣ DIF Detection for Gender (Qualitative Data)\n",
    "\n",
    "**Goal:** Assess whether Differential Item Functioning (DIF) exists across gender instead of race.\n",
    "\n",
    "**Instructions:**\n",
    "1. Modify the call to `lordif()` by replacing `YouthDep$race` with `YouthDep$gender`.\n",
    "2. Interpret the output and compare to the DIF results by race.\n",
    "3. Which items appear most sensitive to gender-based DIF?"
   ]
  },
  {
   "cell_type": "code",
   "execution_count": null,
   "id": "b9e2e4e1",
   "metadata": {},
   "outputs": [],
   "source": [
    "# Your code here"
   ]
  },
  {
   "cell_type": "markdown",
   "id": "53a9de6a",
   "metadata": {},
   "source": [
    "## 3️⃣ Testing Invariance with Additional Timepoints\n",
    "\n",
    "**Goal:** Extend the longitudinal CFA to include the year 2000 (if present in the dataset).\n",
    "\n",
    "**Instructions:**\n",
    "1. Modify the measurement model to add a latent factor `SDO2000` and link it to items measured in 2000.\n",
    "2. Enforce equal loadings and intercepts across the three timepoints.\n",
    "3. Examine model fit and comment on any changes.\n",
    "4. If the year 2000 is not in the dataset, simulate a third timepoint by duplicating 1998 responses."
   ]
  },
  {
   "cell_type": "code",
   "execution_count": null,
   "id": "cc67bce7",
   "metadata": {},
   "outputs": [],
   "source": [
    "# Your code here"
   ]
  }
 ],
 "metadata": {
  "language_info": {
   "name": "python"
  }
 },
 "nbformat": 4,
 "nbformat_minor": 5
}
