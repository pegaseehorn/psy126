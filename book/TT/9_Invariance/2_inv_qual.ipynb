{
 "cells": [
  {
   "cell_type": "markdown",
   "metadata": {},
   "source": [
    "# 7.2 Group Invariance (Qualitative)\n",
    "\n",
    "## Measurement Invariance across groups for qualitative item responses"
   ]
  },
  {
   "cell_type": "code",
   "execution_count": 1,
   "metadata": {
    "colab": {
     "base_uri": "https://localhost:8080/"
    },
    "executionInfo": {
     "elapsed": 11164,
     "status": "ok",
     "timestamp": 1741899968424,
     "user": {
      "displayName": "Tim Dreßler",
      "userId": "10678244503421566183"
     },
     "user_tz": -60
    },
    "id": "E57mXg5eZssL",
    "outputId": "8fd66f68-9b43-4e4b-8c37-8573d6005039"
   },
   "outputs": [
    {
     "name": "stderr",
     "output_type": "stream",
     "text": [
      "c:\\Users\\maku1542\\AppData\\Local\\miniconda3\\envs\\psy126\\Lib\\site-packages\\rpy2\\robjects\\packages.py:367: UserWarning: The symbol 'quartz' is not in this R namespace/package.\n",
      "  warnings.warn(\n"
     ]
    },
    {
     "data": {
      "text/plain": [
       "rpy2.robjects.packages.Package as a <module 'Hmisc'>"
      ]
     },
     "execution_count": 1,
     "metadata": {},
     "output_type": "execute_result"
    }
   ],
   "source": [
    "# General imports\n",
    "import numpy as np\n",
    "import pandas as pd\n",
    "import matplotlib.pyplot as plt\n",
    "import seaborn as sns\n",
    "\n",
    "# Rpy2 imports\n",
    "from rpy2 import robjects as ro\n",
    "from rpy2.robjects import pandas2ri, numpy2ri\n",
    "from rpy2.robjects.packages import importr\n",
    "\n",
    "# Automatic conversion of arrays and dataframes\n",
    "pandas2ri.activate()\n",
    "numpy2ri.activate()\n",
    "\n",
    "# Set random seed for reproducibility\n",
    "ro.r('set.seed(123)')\n",
    "\n",
    "# Ipython extenrsion for magix plotting\n",
    "%load_ext rpy2.ipython\n",
    "\n",
    "# R imports\n",
    "importr('base')\n",
    "importr('lavaan')\n",
    "importr('semTools')\n",
    "importr('MPsychoR')\n",
    "importr('lordif')\n",
    "importr('Hmisc')"
   ]
  },
  {
   "cell_type": "markdown",
   "metadata": {
    "id": "V_Gpd405fEoj"
   },
   "source": [
    "Measurement invariance can also be tested for dichotomous or polytomous (i.e. qualitative) item responses. In the Item Response Theory (IRT) this is known as **Differential Item Functioning (DIF)**. We can distinguish between two forms of DIF:  \n",
    "\n",
    "* **Uniform DIF:** the ICCs are shifted in location across subgroups, but they remain\n",
    "parallel (i.e., a group main effect)\n",
    "* **Nonuniform DIF:** the ICCs across subgroups are shifted, and they cross (i.e., an\n",
    "interaction effect between group and the trait)  \n",
    "\n",
    "We focus on DIF detection using logistic regression (we skip tree-based DIF assessment as it was not covered in the statistics lecture yet).  \n",
    "\n",
    "The idea of this approach (Zumbo, 1999) is to specify a set of logistic regression equations and predict the original item responses from the person parameters $\\theta$ and the external grouping variable $z$. The following set of proportional odds models is formulated (Choi et al., 2011):  \n",
    "\n",
    "* $M_1$ : $logit(P(x_i)) = \\tau_0 + \\tau_1\\theta$\n",
    "* $M_2$ : $logit(P(x_i)) = \\tau_0 + \\tau_1\\theta + \\tau_2z$\n",
    "* $M_3$ : $logit(P(x_i)) = \\tau_0 + \\tau_1\\theta + \\tau_2z + \\tau_3\\theta z$\n",
    "\n",
    "We are interested in comparing the following models via the **LR-principle**:\n",
    "\n",
    "* $M_2$ vs. $M_1$: if significant, we have **uniform** DIF.\n",
    "* $M_3$ vs. $M_2$: if significant, we have **nonuniform** DIF.\n",
    "\n",
    "### Load, prepare and inspect the dataset\n",
    "\n",
    "We load and inspect the dataset. It's called `YouthDep`. Extract the first 26 items and store the result in `cdi`. Also inspect your newly created subset."
   ]
  },
  {
   "cell_type": "code",
   "execution_count": 2,
   "metadata": {
    "colab": {
     "base_uri": "https://localhost:8080/"
    },
    "executionInfo": {
     "elapsed": 274,
     "status": "ok",
     "timestamp": 1741900010989,
     "user": {
      "displayName": "Tim Dreßler",
      "userId": "10678244503421566183"
     },
     "user_tz": -60
    },
    "id": "fXl8YBjrfG7q",
    "outputId": "1b0e5687-0f0b-49b3-da1b-894b3df8d612"
   },
   "outputs": [
    {
     "name": "stdout",
     "output_type": "stream",
     "text": [
      "   CDI1  CDI2r  CDI3  CDI4  CDI5r  CDI6  CDI7r  CDI8r  CDI10r  CDI11r  ...  \\\n",
      "1     1      1     1     1      1     1      1      1       1       1  ...   \n",
      "2     1      1     1     1      1     1      1      1       1       1  ...   \n",
      "3     1      1     1     1      1     2      1      1       1       1  ...   \n",
      "4     1      1     1     1      1     1      1      2       1       1  ...   \n",
      "5     1      1     1     2      1     2      2      1       1       2  ...   \n",
      "\n",
      "   CDI18r  CDI19  CDI20  CDI21r  CDI22  CDI23  CDI24r  CDI25r  CDI26  CDI27  \n",
      "1       1      1      2       2      1      1       1       1      2      1  \n",
      "2       1      1      1       1      1      1       1       1      1      1  \n",
      "3       1      1      1       1      1      1       1       1      1      1  \n",
      "4       1      1      1       1      1      2       2       1      1      1  \n",
      "5       1      1      1       1      2      1       3       1      1      1  \n",
      "\n",
      "[5 rows x 26 columns]\n"
     ]
    }
   ],
   "source": [
    "ro.r('data(\"YouthDep\")')                                    # Load the YouthDep dataset from R          \n",
    "YouthDep_df = pandas2ri.rpy2py(ro.globalenv['YouthDep'])    # Convert to Python\n",
    "cdi = YouthDep_df.iloc[:, :26]                              # Select first 26 columns\n",
    "print(cdi.head())\n",
    "\n",
    "# Put data back into R\n",
    "ro.globalenv['cdi'] = cdi"
   ]
  },
  {
   "cell_type": "markdown",
   "metadata": {
    "id": "uNnka4r3gOva"
   },
   "source": [
    "#### The dataset\n",
    "\n",
    "As an example, we use a dataset from Vaughn-Coaxum et al. (2016) on youth\n",
    "depression. The 26 items come from the Children’s Depression Inventory (CDI);\n",
    "each item is scored on a scale from 0 to 2. The authors were interested in DIF\n",
    "analyses on an external race variable (four categories). Note that the aim was\n",
    "not to eliminate items from the CDI, which is a well-established scale. Rather,\n",
    "the authors wanted to identify DIF items (which already gives useful substantive\n",
    "information) and score all individuals in a “fair” way by means of group-specific\n",
    "person parameter estimates for items flagged as DIF.\n",
    "\n",
    "### Fit the models\n",
    "\n",
    "Use the `lordif` function to fit the models (with this one function you will fit all the models described above). We want to use `YouthDep$race` as our grouping variable and our `cdi` subset as the dataset."
   ]
  },
  {
   "cell_type": "code",
   "execution_count": 3,
   "metadata": {
    "colab": {
     "base_uri": "https://localhost:8080/"
    },
    "executionInfo": {
     "elapsed": 37491,
     "status": "ok",
     "timestamp": 1741900049536,
     "user": {
      "displayName": "Tim Dreßler",
      "userId": "10678244503421566183"
     },
     "user_tz": -60
    },
    "id": "avY4gletgUD-",
    "outputId": "022a0bb4-7f2f-4ed3-abab-325d8d9d37bd"
   },
   "outputs": [
    {
     "name": "stdout",
     "output_type": "stream",
     "text": [
      " (mirt) | Iteration: 1, 21 items flagged for DIF (1,2,4,5,6,7,9,10,11,13,14,15,16,17,18,20,22,23,24,25,26)\n",
      " (mirt) | Iteration: 2, 20 items flagged for DIF (2,3,4,5,6,7,8,10,11,13,14,16,17,18,20,22,23,24,25,26)\n",
      " (mirt) | Iteration: 3, 20 items flagged for DIF (2,3,4,5,6,7,8,10,11,13,14,16,17,18,20,22,23,24,25,26)\n"
     ]
    }
   ],
   "source": [
    "ro.r('cdiDIF <- lordif(cdi, YouthDep$race, criterion = \"Chisqr\")')"
   ]
  },
  {
   "cell_type": "markdown",
   "metadata": {
    "id": "WliYem7vhIJx"
   },
   "source": [
    "In total, 20 out of 26 items are flagged as DIF. Let us print out the p-values of\n",
    "the LR-tests for the first three items:"
   ]
  },
  {
   "cell_type": "code",
   "execution_count": 4,
   "metadata": {
    "colab": {
     "base_uri": "https://localhost:8080/"
    },
    "executionInfo": {
     "elapsed": 7,
     "status": "ok",
     "timestamp": 1741900049537,
     "user": {
      "displayName": "Tim Dreßler",
      "userId": "10678244503421566183"
     },
     "user_tz": -60
    },
    "id": "lRrR3PgKhH02",
    "outputId": "ace223e1-0d69-4411-dec3-5877ffdbba47"
   },
   "outputs": [
    {
     "name": "stdout",
     "output_type": "stream",
     "text": [
      "  item ncat chi12  chi13  chi23\n",
      "1    1    2 0.352 0.3799 0.3718\n",
      "2    2    2 0.000 0.0000 0.2084\n",
      "3    3    2 0.000 0.0000 0.0022\n",
      "\n"
     ]
    }
   ],
   "source": [
    "print(ro.r(\"cdiDIF$stats[1:3, 1:5]\"))"
   ]
  },
  {
   "cell_type": "markdown",
   "metadata": {
    "id": "X66umCGrhgVB"
   },
   "source": [
    "We see that for the first item, none of the LR-$\\chi$ 2 values is significant. In fact, item\n",
    "1 was not flagged. For the second item, $\\chi^2_{12}$ (i.e., M2 vs. M1) is significant, whereas $\\chi^2_{23}$\n",
    "(i.e., M3 vs. M2) is not significant. Thus, the second item has uniform DIF. For\n",
    "the third item, all p-values are significant; we have the case of nonuniform DIF.\n",
    "Corresponding plots can be produced as follows:  "
   ]
  },
  {
   "cell_type": "code",
   "execution_count": 6,
   "metadata": {
    "id": "aauYHViEhhcH"
   },
   "outputs": [
    {
     "data": {
      "image/png": "[encoded data removed]",
      "text/plain": [
       "<IPython.core.display.Image object>"
      ]
     },
     "metadata": {},
     "output_type": "display_data"
    }
   ],
   "source": [
    "%%R\n",
    "plot(cdiDIF, labels = c(\"White\", \"Black\", \"Asian\", \"Latino\"))\n"
   ]
  },
  {
   "cell_type": "markdown",
   "metadata": {},
   "source": [
    "**Note. The `plot()` function for `lordif`objects only outputs the very last plot.** If you want to see all the plots, you can use the following code to save all of them into a pdf. If you want to include the plots in your portfolio follow this work-around: (1) Run the code chunk in a separate python/.ipynb script (adapted to your dataset) (2) Save the pdf to a convenient location (3) Use screenshots to export the plot as a .png (4) insert the .png file in you RMD."
   ]
  },
  {
   "cell_type": "code",
   "execution_count": null,
   "metadata": {},
   "outputs": [
    {
     "name": "stdout",
     "output_type": "stream",
     "text": [
      "All plots saved to L:/Desktop/Main/Classes/psy126/book/TT/9_Invariance/figures/cdiDIF_allplots.pdf\n"
     ]
    }
   ],
   "source": [
    "# Save all lordif plots to a PDF in a specified folder (e.g., \"figures\")\n",
    "output_path = \"your/folder/location/cdiDIF_allplots.pdf\"\n",
    "ro.r(f'pdf(\"{output_path}\")')\n",
    "ro.r('plot(cdiDIF, labels = c(\"White\", \"Black\", \"Asian\", \"Latino\"))') # Change plotting command as needed\n",
    "ro.r('dev.off()')\n",
    "\n",
    "print(f\"All plots saved to {output_path}\")"
   ]
  },
  {
   "cell_type": "markdown",
   "metadata": {
    "id": "LwVRxZhYhtwd"
   },
   "source": [
    "Let us print out the GRM parameters (discrimination, category boundaries) for\n",
    "the six non-DIF items (non-DIF) and the first DIF item (I2):"
   ]
  },
  {
   "cell_type": "code",
   "execution_count": 17,
   "metadata": {
    "colab": {
     "base_uri": "https://localhost:8080/"
    },
    "executionInfo": {
     "elapsed": 4,
     "status": "ok",
     "timestamp": 1741900049537,
     "user": {
      "displayName": "Tim Dreßler",
      "userId": "10678244503421566183"
     },
     "user_tz": -60
    },
    "id": "VxTJXSsShuIg",
    "outputId": "7f4b5dc0-3dc4-4a4a-c2ab-f533e2629d86"
   },
   "outputs": [
    {
     "name": "stdout",
     "output_type": "stream",
     "text": [
      "            a       cb1      cb2\n",
      "I1   2.055572 1.5197578       NA\n",
      "I9   1.942808 1.6169260       NA\n",
      "I12  1.224337 0.3175138 2.674436\n",
      "I15  1.424712 1.1699027 2.507799\n",
      "I19  2.107288 1.1153563       NA\n",
      "I21  1.129338 1.9135221       NA\n",
      "I2.1 1.638530 0.9251430       NA\n",
      "I2.2 1.564181 0.9395047       NA\n",
      "I2.3 1.611274 0.5323336       NA\n",
      "I2.4 1.987255 1.0579461       NA\n",
      "\n"
     ]
    }
   ],
   "source": [
    "GRM = ro.r(\"cdiDIF$ipar.sparse\")\n",
    "print(GRM.head(10))"
   ]
  },
  {
   "cell_type": "markdown",
   "metadata": {
    "id": "lgE08sfIiNEX"
   },
   "source": [
    "Note that for some items, there is only one category boundary. This results from\n",
    "the fact that there were not enough observations in a particular category (here,\n",
    "category 2) for parameter estimation. For such cases, `lordif` collapses categories\n",
    "automatically. Item 2 was flagged as DIF. We get four sets of discrimination/boundary\n",
    "parameters, one of each race category.  \n",
    "\n",
    "The calibrated, group-specific person parameter vector can be extracted using:"
   ]
  },
  {
   "cell_type": "code",
   "execution_count": 18,
   "metadata": {
    "executionInfo": {
     "elapsed": 3,
     "status": "ok",
     "timestamp": 1741900049538,
     "user": {
      "displayName": "Tim Dreßler",
      "userId": "10678244503421566183"
     },
     "user_tz": -60
    },
    "id": "1g1b1aEViQKn"
   },
   "outputs": [],
   "source": [
    "ro.r(\"ppar <- cdiDIF$calib.sparse$theta\")"
   ]
  },
  {
   "cell_type": "markdown",
   "metadata": {},
   "source": [
    "And then we can have a quick histogram to see the distribution of the person parameters in our dataset:"
   ]
  },
  {
   "cell_type": "code",
   "execution_count": 20,
   "metadata": {},
   "outputs": [
    {
     "data": {
      "image/png": "[encoded data removed]",
      "text/plain": [
       "<Figure size 640x480 with 1 Axes>"
      ]
     },
     "metadata": {},
     "output_type": "display_data"
    }
   ],
   "source": [
    "# Bring ppar into Python\n",
    "ppar = ro.r(\"ppar\")\n",
    "\n",
    "# Plot histogram\n",
    "plt.hist(ppar, bins=50, edgecolor='black')\n",
    "plt.xlabel(\"Theta\")\n",
    "plt.ylabel(\"Frequency\")\n",
    "plt.title(\"Histogram of Person Parameters (Theta)\")\n",
    "plt.show()"
   ]
  },
  {
   "cell_type": "markdown",
   "metadata": {
    "id": "CWsRHy4giTYp"
   },
   "source": [
    "Based on the DIF subgroup structure, they are fairly scored, are on the same\n",
    "scale, and can be subject to further analysis."
   ]
  }
 ],
 "metadata": {
  "colab": {
   "provenance": [
    {
     "file_id": "1shSM8oE3V3nElvkpfKPtfJNamsVKnTSR",
     "timestamp": 1741293629262
    },
    {
     "file_id": "1oY59GO8mlzEJZlf-csY2pKRUXDCCIMFo",
     "timestamp": 1741164113567
    },
    {
     "file_id": "1_Hdy9GX2W03RQoKnijnEid9-KJzzTmJi",
     "timestamp": 1740862927421
    }
   ]
  },
  "kernelspec": {
   "display_name": "psy126",
   "language": "python",
   "name": "python3"
  },
  "language_info": {
   "codemirror_mode": {
    "name": "ipython",
    "version": 3
   },
   "file_extension": ".py",
   "mimetype": "text/x-python",
   "name": "python",
   "nbconvert_exporter": "python",
   "pygments_lexer": "ipython3",
   "version": "3.13.3"
  }
 },
 "nbformat": 4,
 "nbformat_minor": 0
}
