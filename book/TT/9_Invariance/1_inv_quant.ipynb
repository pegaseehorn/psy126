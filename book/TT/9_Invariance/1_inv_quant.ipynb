{
 "cells": [
  {
   "cell_type": "markdown",
   "metadata": {
    "id": "0dtwBaFyRwzF"
   },
   "source": [
    "# 7.1 Group Invariance (Quantitative)\n",
    "\n",
    "## Measurement invariance across groups for quantitative item responses"
   ]
  },
  {
   "cell_type": "code",
   "execution_count": null,
   "metadata": {
    "colab": {
     "base_uri": "https://localhost:8080/"
    },
    "executionInfo": {
     "elapsed": 11164,
     "status": "ok",
     "timestamp": 1741899968424,
     "user": {
      "displayName": "Tim Dreßler",
      "userId": "10678244503421566183"
     },
     "user_tz": -60
    },
    "id": "E57mXg5eZssL",
    "outputId": "8fd66f68-9b43-4e4b-8c37-8573d6005039"
   },
   "outputs": [
    {
     "name": "stdout",
     "output_type": "stream",
     "text": [
      "The rpy2.ipython extension is already loaded. To reload it, use:\n",
      "  %reload_ext rpy2.ipython\n"
     ]
    },
    {
     "data": {
      "text/plain": [
       "rpy2.robjects.packages.Package as a <module 'Hmisc'>"
      ]
     },
     "execution_count": 25,
     "metadata": {},
     "output_type": "execute_result"
    }
   ],
   "source": [
    "# General imports\n",
    "import numpy as np\n",
    "import seaborn as sns\n",
    "import matplotlib.pyplot as plt\n",
    "import pandas as pd\n",
    "pd.set_option('display.float_format', '{:.6f}'.format) # Set float format for pandas display\n",
    "\n",
    "# Rpy2 imports\n",
    "from rpy2 import robjects as ro\n",
    "from rpy2.robjects import pandas2ri, numpy2ri\n",
    "from rpy2.robjects.packages import importr\n",
    "\n",
    "# Automatic conversion of arrays and dataframes\n",
    "pandas2ri.activate()\n",
    "numpy2ri.activate()\n",
    "\n",
    "# Set random seed for reproducibility\n",
    "ro.r('set.seed(123)')\n",
    "\n",
    "# Ipython extenrsion for magix plotting\n",
    "%load_ext rpy2.ipython\n",
    "\n",
    "# R imports\n",
    "importr('base')\n",
    "importr('lavaan')\n",
    "importr('semTools')\n",
    "importr('MPsychoR')\n",
    "importr('lordif')\n",
    "importr('Hmisc')"
   ]
  },
  {
   "cell_type": "markdown",
   "metadata": {
    "id": "HmZzRlPHasZA"
   },
   "source": [
    "Measurement invariance means that we measure the same psychological construct across groups and time (see lectures 8 & 9 for examples). In the following RMD we will look at how we can assess measurement invariance across...\n",
    "\n",
    "* **groups** for **quantitative** item responses\n",
    "* **groups** for **qualitative** item responses\n",
    "* **time** for **quantitative** responses  \n",
    "\n",
    "The four most important measurement invariance structures are the following:\n",
    "\n",
    "* **Configural invariance:** same factor structure but unrestricted loadings and intercepts across groups.\n",
    "* **Metric invariance:** the factor structure and the loadings are constrained to be equal across groups; the intercepts are free. (In the book this is referred to as *Weak invariance*)\n",
    "* **Scale invariance:** the factor structure, the loadings and the indicator intercepts are restricted to be equal across groups. (In the book this is referred to as *Strong invariance*)\n",
    "* **Strict invariance:** the factor structure, the loadings, the indicator intercepts and the reliabilities are restricted to be equal across groups.\n",
    "\n",
    "Note. In the book there is is also a model in which, in addition to the indicator intercepts, the means of the latent\n",
    "variables are restricted to be equal as well, however we will not cover this here.  \n",
    "\n",
    "Try to load and inspect the dataset. It's called `Bergh`.\n",
    "\n",
    "### Load, prepare and inspect the dataset"
   ]
  },
  {
   "cell_type": "code",
   "execution_count": 23,
   "metadata": {
    "colab": {
     "base_uri": "https://localhost:8080/",
     "height": 206
    },
    "executionInfo": {
     "elapsed": 121,
     "status": "ok",
     "timestamp": 1741899994102,
     "user": {
      "displayName": "Tim Dreßler",
      "userId": "10678244503421566183"
     },
     "user_tz": -60
    },
    "id": "Ua_6sGutatD6",
    "outputId": "2af8a503-a113-43bb-c160-719b67b58d09"
   },
   "outputs": [
    {
     "data": {
      "text/html": [
       "<div>\n",
       "<style scoped>\n",
       "    .dataframe tbody tr th:only-of-type {\n",
       "        vertical-align: middle;\n",
       "    }\n",
       "\n",
       "    .dataframe tbody tr th {\n",
       "        vertical-align: top;\n",
       "    }\n",
       "\n",
       "    .dataframe thead th {\n",
       "        text-align: right;\n",
       "    }\n",
       "</style>\n",
       "<table border=\"1\" class=\"dataframe\">\n",
       "  <thead>\n",
       "    <tr style=\"text-align: right;\">\n",
       "      <th></th>\n",
       "      <th>EP</th>\n",
       "      <th>SP</th>\n",
       "      <th>HP</th>\n",
       "      <th>DP</th>\n",
       "      <th>A1</th>\n",
       "      <th>A2</th>\n",
       "      <th>A3</th>\n",
       "      <th>O1</th>\n",
       "      <th>O2</th>\n",
       "      <th>O3</th>\n",
       "      <th>gender</th>\n",
       "    </tr>\n",
       "  </thead>\n",
       "  <tbody>\n",
       "    <tr>\n",
       "      <th>1</th>\n",
       "      <td>2.666667</td>\n",
       "      <td>3.125</td>\n",
       "      <td>1.4</td>\n",
       "      <td>2.818182</td>\n",
       "      <td>3.4375</td>\n",
       "      <td>3.600000</td>\n",
       "      <td>3.352941</td>\n",
       "      <td>2.8750</td>\n",
       "      <td>3.400000</td>\n",
       "      <td>3.176471</td>\n",
       "      <td>1</td>\n",
       "    </tr>\n",
       "    <tr>\n",
       "      <th>2</th>\n",
       "      <td>2.666667</td>\n",
       "      <td>3.250</td>\n",
       "      <td>1.4</td>\n",
       "      <td>2.545455</td>\n",
       "      <td>2.3125</td>\n",
       "      <td>2.666667</td>\n",
       "      <td>3.117647</td>\n",
       "      <td>4.4375</td>\n",
       "      <td>3.866667</td>\n",
       "      <td>4.470588</td>\n",
       "      <td>1</td>\n",
       "    </tr>\n",
       "    <tr>\n",
       "      <th>3</th>\n",
       "      <td>1.000000</td>\n",
       "      <td>1.625</td>\n",
       "      <td>2.7</td>\n",
       "      <td>2.000000</td>\n",
       "      <td>3.5625</td>\n",
       "      <td>4.600000</td>\n",
       "      <td>3.941176</td>\n",
       "      <td>4.2500</td>\n",
       "      <td>3.666667</td>\n",
       "      <td>3.705882</td>\n",
       "      <td>1</td>\n",
       "    </tr>\n",
       "    <tr>\n",
       "      <th>4</th>\n",
       "      <td>2.666667</td>\n",
       "      <td>2.750</td>\n",
       "      <td>1.8</td>\n",
       "      <td>2.818182</td>\n",
       "      <td>2.7500</td>\n",
       "      <td>3.200000</td>\n",
       "      <td>3.352941</td>\n",
       "      <td>2.8750</td>\n",
       "      <td>3.400000</td>\n",
       "      <td>3.117647</td>\n",
       "      <td>1</td>\n",
       "    </tr>\n",
       "    <tr>\n",
       "      <th>5</th>\n",
       "      <td>2.888889</td>\n",
       "      <td>3.250</td>\n",
       "      <td>2.7</td>\n",
       "      <td>3.000000</td>\n",
       "      <td>3.2500</td>\n",
       "      <td>4.200000</td>\n",
       "      <td>3.764706</td>\n",
       "      <td>3.9375</td>\n",
       "      <td>4.400000</td>\n",
       "      <td>4.294118</td>\n",
       "      <td>1</td>\n",
       "    </tr>\n",
       "  </tbody>\n",
       "</table>\n",
       "</div>"
      ],
      "text/plain": [
       "         EP     SP   HP        DP      A1        A2        A3      O1  \\\n",
       "1  2.666667  3.125  1.4  2.818182  3.4375  3.600000  3.352941  2.8750   \n",
       "2  2.666667  3.250  1.4  2.545455  2.3125  2.666667  3.117647  4.4375   \n",
       "3  1.000000  1.625  2.7  2.000000  3.5625  4.600000  3.941176  4.2500   \n",
       "4  2.666667  2.750  1.8  2.818182  2.7500  3.200000  3.352941  2.8750   \n",
       "5  2.888889  3.250  2.7  3.000000  3.2500  4.200000  3.764706  3.9375   \n",
       "\n",
       "         O2        O3  gender  \n",
       "1  3.400000  3.176471       1  \n",
       "2  3.866667  4.470588       1  \n",
       "3  3.666667  3.705882       1  \n",
       "4  3.400000  3.117647       1  \n",
       "5  4.400000  4.294118       1  "
      ]
     },
     "execution_count": 23,
     "metadata": {},
     "output_type": "execute_result"
    }
   ],
   "source": [
    "ro.r('data(\"Bergh\")')\n",
    "# Convert to Python\n",
    "Bergh = pandas2ri.rpy2py(ro.globalenv['Bergh'])\n",
    "Bergh.head()"
   ]
  },
  {
   "cell_type": "markdown",
   "metadata": {
    "id": "XYns-0fybRdp"
   },
   "source": [
    "#### The dataset\n",
    "\n",
    "We illustrate today's topic using a dataset from Bergh et al. (2016). Part of their\n",
    "analysis consisted of a multigroup CFA, where ethnic prejudice *(EP)*, sexism *(SP)*,\n",
    "sexual prejudice against non-heterosexuals *(HP)*, and prejudice toward mentally\n",
    "people with disabilities (DP) were modeled *as indicators of* a generalized prejudice\n",
    "factor *(GP)*. The multigroup aspect comes in by exploring differences in CFA parameters across *gender*.\n",
    "\n",
    "### Fit the models\n",
    "\n",
    "Luckily, we do not have to specify all the models mentioned above by ourselves. Instead, we can use the `measurementInvariance()` function from the `semTools` package. We only need to specify few elements:\n",
    "\n",
    "1. )  The model equation (i.e. which items we want to include),\n",
    "2. )  The dataset,\n",
    "3. )  The grouping variable and\n",
    "4. )  The estimator (We use a robust ML estimator since some of the prejudice measures deviate from normality).  \n",
    "\n",
    "Note. `strict = T` gives us a configural, metric (weak), scale (strong), strict and a fifth model. With `strict = F` we will not get the strict model."
   ]
  },
  {
   "cell_type": "code",
   "execution_count": 4,
   "metadata": {
    "colab": {
     "base_uri": "https://localhost:8080/"
    },
    "executionInfo": {
     "elapsed": 2278,
     "status": "ok",
     "timestamp": 1741899997861,
     "user": {
      "displayName": "Tim Dreßler",
      "userId": "10678244503421566183"
     },
     "user_tz": -60
    },
    "id": "Ko0UFRMVbVG4",
    "outputId": "7e4ae5b2-a49d-4c64-9602-6ecbfd2d5d13"
   },
   "outputs": [
    {
     "name": "stdout",
     "output_type": "stream",
     "text": [
      "\n",
      "Measurement invariance models:\n",
      "\n",
      "Model 1 : fit.configural\n",
      "Model 2 : fit.loadings\n",
      "Model 3 : fit.intercepts\n",
      "Model 4 : fit.residuals\n",
      "Model 5 : fit.means\n",
      "\n",
      "\n",
      "Scaled Chi-Squared Difference Test (method = \"satorra.bentler.2001\")\n",
      "\n",
      "lavaan->lavTestLRT():  \n",
      "   lavaan NOTE: The \"Chisq\" column contains standard test statistics, not the \n",
      "   robust test that should be reported per model. A robust difference test is \n",
      "   a function of two standard (not robust) statistics.\n",
      "               Df    AIC    BIC    Chisq Chisq diff Df diff Pr(>Chisq)    \n",
      "fit.configural  4 7376.1 7490.2   1.6552                                  \n",
      "fit.loadings    7 7382.9 7482.8  14.4960     11.834       3   0.007972 ** \n",
      "fit.intercepts 10 7417.7 7503.3  55.2875     47.833       3  2.311e-10 ***\n",
      "fit.residuals  14 7429.8 7496.4  75.3689     12.468       4   0.014189 *  \n",
      "fit.means      15 7482.4 7544.3 130.0375     49.267       1  2.234e-12 ***\n",
      "---\n",
      "Signif. codes:  0 '***' 0.001 '**' 0.01 '*' 0.05 '.' 0.1 ' ' 1\n",
      "\n",
      "\n",
      "Fit measures:\n",
      "\n",
      "               cfi.scaled rmsea.scaled cfi.scaled.delta rmsea.scaled.delta\n",
      "fit.configural      1.000        0.000               NA                 NA\n",
      "fit.loadings        0.988        0.046            0.012              0.046\n",
      "fit.intercepts      0.914        0.102            0.074              0.056\n",
      "fit.residuals       0.904        0.091            0.010              0.011\n",
      "fit.means           0.816        0.122            0.088              0.031\n",
      "\n"
     ]
    },
    {
     "name": "stderr",
     "output_type": "stream",
     "text": [
      "R[write to console]: In addition: \n",
      "R[write to console]: Warning message:\n",
      "\n",
      "R[write to console]: In measurementInvariance(model = GP_model, data = Bergh, group = \"gender\",  :\n",
      "R[write to console]: \n",
      " \n",
      "R[write to console]:  The measurementInvariance function is deprecated, and it will cease to be included in future versions of semTools. See help('semTools-deprecated) for details.\n",
      "\n"
     ]
    }
   ],
   "source": [
    "ro.r(\"GP_model <- 'GP =~ EP + HP + DP + SP'\")\n",
    "ro.r('minvfit <- measurementInvariance(model = GP_model, data = Bergh, group = \"gender\", estimator = \"MLR\", strict = T)')"
   ]
  },
  {
   "cell_type": "markdown",
   "metadata": {
    "id": "8ZGkAbIWbwIR"
   },
   "source": [
    "This code chunk fits four invariance models: configural, metric (weak), scale (strong), strict and a fifth model where, in addition to the indicator intercepts, the means of the latent variables are restricted to be equal as well. As mentioned above, we will not deal with the last model.  \n",
    "\n",
    "Each model is tested against the previous one, and a **significant result** indicates that the higher restricted model is significantly **worse** than the previous model. In our example, only configural variance holds as restricting the model parameters to match the assumptions of metric invariance results in a significantly worse fit.\n",
    "\n",
    "#### Select the best fitting model\n",
    "\n",
    "In our example we would go with the configural model, for which the output can be requested as follows:"
   ]
  },
  {
   "cell_type": "code",
   "execution_count": 5,
   "metadata": {
    "executionInfo": {
     "elapsed": 1,
     "status": "ok",
     "timestamp": 1741899997863,
     "user": {
      "displayName": "Tim Dreßler",
      "userId": "10678244503421566183"
     },
     "user_tz": -60
    },
    "id": "XoFxQWhibwwN"
   },
   "outputs": [],
   "source": [
    "# Extract only the configural model\n",
    "ro.r(\"Fit_conf <- minvfit$fit.configural\")"
   ]
  },
  {
   "cell_type": "markdown",
   "metadata": {
    "id": "Xca05TMMb5F0"
   },
   "source": [
    "Try to investigate the `Fit_conf` using `summary()`. Remember to set `standardized = TRUE` & `fit.measures = TRUE`."
   ]
  },
  {
   "cell_type": "code",
   "execution_count": 6,
   "metadata": {
    "colab": {
     "base_uri": "https://localhost:8080/"
    },
    "executionInfo": {
     "elapsed": 48,
     "status": "ok",
     "timestamp": 1741899998774,
     "user": {
      "displayName": "Tim Dreßler",
      "userId": "10678244503421566183"
     },
     "user_tz": -60
    },
    "id": "z3hGPJdGb5du",
    "outputId": "f6ef9ac7-44cf-4a10-d239-195462dbdfba"
   },
   "outputs": [
    {
     "name": "stdout",
     "output_type": "stream",
     "text": [
      "lavaan 0.6-19 ended normally after 45 iterations\n",
      "\n",
      "  Estimator                                         ML\n",
      "  Optimization method                           NLMINB\n",
      "  Number of model parameters                        24\n",
      "\n",
      "  Number of observations per group:                   \n",
      "    male                                           249\n",
      "    female                                         612\n",
      "\n",
      "Model Test User Model:\n",
      "                                              Standard      Scaled\n",
      "  Test Statistic                                 1.655       1.549\n",
      "  Degrees of freedom                                 4           4\n",
      "  P-value (Chi-square)                           0.799       0.818\n",
      "  Scaling correction factor                                  1.068\n",
      "    Yuan-Bentler correction (Mplus variant)                       \n",
      "  Test statistic for each group:\n",
      "    male                                         0.348       0.348\n",
      "    female                                       1.201       1.201\n",
      "\n",
      "Model Test Baseline Model:\n",
      "\n",
      "  Test statistic                               716.580     530.342\n",
      "  Degrees of freedom                                12          12\n",
      "  P-value                                        0.000       0.000\n",
      "  Scaling correction factor                                  1.351\n",
      "\n",
      "User Model versus Baseline Model:\n",
      "\n",
      "  Comparative Fit Index (CFI)                    1.000       1.000\n",
      "  Tucker-Lewis Index (TLI)                       1.010       1.014\n",
      "                                                                  \n",
      "  Robust Comparative Fit Index (CFI)                         1.000\n",
      "  Robust Tucker-Lewis Index (TLI)                            1.011\n",
      "\n",
      "Loglikelihood and Information Criteria:\n",
      "\n",
      "  Loglikelihood user model (H0)              -3664.027   -3664.027\n",
      "  Scaling correction factor                                  1.284\n",
      "      for the MLR correction                                      \n",
      "  Loglikelihood unrestricted model (H1)      -3663.200   -3663.200\n",
      "  Scaling correction factor                                  1.253\n",
      "      for the MLR correction                                      \n",
      "                                                                  \n",
      "  Akaike (AIC)                                7376.055    7376.055\n",
      "  Bayesian (BIC)                              7490.249    7490.249\n",
      "  Sample-size adjusted Bayesian (SABIC)       7414.031    7414.031\n",
      "\n",
      "Root Mean Square Error of Approximation:\n",
      "\n",
      "  RMSEA                                          0.000       0.000\n",
      "  90 Percent confidence interval - lower         0.000       0.000\n",
      "  90 Percent confidence interval - upper         0.046       0.042\n",
      "  P-value H_0: RMSEA <= 0.050                    0.961       0.971\n",
      "  P-value H_0: RMSEA >= 0.080                    0.003       0.002\n",
      "                                                                  \n",
      "  Robust RMSEA                                               0.000\n",
      "  90 Percent confidence interval - lower                     0.000\n",
      "  90 Percent confidence interval - upper                     0.046\n",
      "  P-value H_0: Robust RMSEA <= 0.050                         0.961\n",
      "  P-value H_0: Robust RMSEA >= 0.080                         0.003\n",
      "\n",
      "Standardized Root Mean Square Residual:\n",
      "\n",
      "  SRMR                                           0.008       0.008\n",
      "\n",
      "Parameter Estimates:\n",
      "\n",
      "  Standard errors                             Sandwich\n",
      "  Information bread                           Observed\n",
      "  Observed information based on                Hessian\n",
      "\n",
      "\n",
      "Group 1 [male]:\n",
      "\n",
      "Latent Variables:\n",
      "                   Estimate  Std.Err  z-value  P(>|z|)   Std.lv  Std.all\n",
      "  GP =~                                                                 \n",
      "    EP                1.000                               0.489    0.717\n",
      "    HP                1.452    0.289    5.024    0.000    0.709    0.387\n",
      "    DP                0.766    0.100    7.670    0.000    0.375    0.685\n",
      "    SP                1.137    0.153    7.409    0.000    0.556    0.805\n",
      "\n",
      "Intercepts:\n",
      "                   Estimate  Std.Err  z-value  P(>|z|)   Std.lv  Std.all\n",
      "   .EP                2.141    0.043   49.594    0.000    2.141    3.143\n",
      "   .HP                1.379    0.116   11.883    0.000    1.379    0.753\n",
      "   .DP                2.204    0.035   63.623    0.000    2.204    4.032\n",
      "   .SP                2.466    0.044   56.376    0.000    2.466    3.573\n",
      "\n",
      "Variances:\n",
      "                   Estimate  Std.Err  z-value  P(>|z|)   Std.lv  Std.all\n",
      "   .EP                0.225    0.041    5.435    0.000    0.225    0.486\n",
      "   .HP                2.851    0.362    7.873    0.000    2.851    0.850\n",
      "   .DP                0.159    0.022    7.197    0.000    0.159    0.531\n",
      "   .SP                0.168    0.031    5.341    0.000    0.168    0.352\n",
      "    GP                0.239    0.044    5.450    0.000    1.000    1.000\n",
      "\n",
      "\n",
      "Group 2 [female]:\n",
      "\n",
      "Latent Variables:\n",
      "                   Estimate  Std.Err  z-value  P(>|z|)   Std.lv  Std.all\n",
      "  GP =~                                                                 \n",
      "    EP                1.000                               0.536    0.752\n",
      "    HP                0.771    0.126    6.137    0.000    0.413    0.289\n",
      "    DP                0.691    0.054   12.798    0.000    0.371    0.718\n",
      "    SP                0.774    0.059   13.104    0.000    0.415    0.661\n",
      "\n",
      "Intercepts:\n",
      "                   Estimate  Std.Err  z-value  P(>|z|)   Std.lv  Std.all\n",
      "   .EP                1.927    0.029   66.895    0.000    1.927    2.704\n",
      "   .HP                1.150    0.058   19.893    0.000    1.150    0.804\n",
      "   .DP                1.999    0.021   95.793    0.000    1.999    3.872\n",
      "   .SP                1.972    0.025   77.676    0.000    1.972    3.140\n",
      "\n",
      "Variances:\n",
      "                   Estimate  Std.Err  z-value  P(>|z|)   Std.lv  Std.all\n",
      "   .EP                0.221    0.029    7.526    0.000    0.221    0.434\n",
      "   .HP                1.874    0.184   10.200    0.000    1.874    0.917\n",
      "   .DP                0.129    0.017    7.420    0.000    0.129    0.484\n",
      "   .SP                0.222    0.019   11.533    0.000    0.222    0.563\n",
      "    GP                0.287    0.034    8.357    0.000    1.000    1.000\n",
      "\n",
      "\n"
     ]
    }
   ],
   "source": [
    "summary_conf = ro.r(\"summary(Fit_conf, standardized = TRUE, fit.measures = TRUE)\")\n",
    "print(summary_conf)"
   ]
  },
  {
   "cell_type": "markdown",
   "metadata": {
    "id": "c5aiR2GfceoI"
   },
   "source": [
    "For the interpretation of this output, please refer to the previous sessions.\n",
    "\n",
    "### Another Option\n",
    "\n",
    "Instead of using these generic invariance sequences of models, we can approach\n",
    "multigroup CFA from a more hypothesis-driven direction. In the first model we are\n",
    "going to fit, the loadings for ethnic minorities (EP), non-heterosexuals (HP), and people\n",
    "with disabilities (DP) are held equal across men and women. We keep the sexism\n",
    "**(SP) loadings free**. Note that all intercepts are free to vary.  \n",
    "\n",
    "In `lavaan`, this can be achieved by using one of the following **two equivalent model formulations**.\n",
    "In the first variant, we explicitly incorporate the loadings\n",
    "restrictions in the model formulation. We specify a vector of length 2, the first\n",
    "element denoting the loading for the first gender category and the second element\n",
    "denoting the loading for the second category. Since we use the same loadings\n",
    "symbols for both categories, they are restricted to be equal.\n",
    "\n",
    "#### Option 1 to specify the model"
   ]
  },
  {
   "cell_type": "code",
   "execution_count": null,
   "metadata": {},
   "outputs": [],
   "source": [
    "res = ro.r(\"\"\"\n",
    "  l <- lavInspect(fitBase, \"fit\")\n",
    "    measure = names(l),\n",
    "    value   = unname(l)\n",
    "\"\"\")\n",
    "\n",
    "# 2. In Python, extract & build your Series\n",
    "measures = list(res.rx2(\"measure\"))  # ['chisq', 'df', 'pvalue', ...]\n",
    "values   = list(res.rx2(\"value\"))    # [3.84, 2.0, 0.1465, ...]\n",
    "\n",
    "fit_series = pd.Series(values, index=measures, name=\"value\")\n",
    "print(fit_series)"
   ]
  },
  {
   "cell_type": "code",
   "execution_count": 46,
   "metadata": {
    "colab": {
     "base_uri": "https://localhost:8080/"
    },
    "executionInfo": {
     "elapsed": 290,
     "status": "ok",
     "timestamp": 1741900001170,
     "user": {
      "displayName": "Tim Dreßler",
      "userId": "10678244503421566183"
     },
     "user_tz": -60
    },
    "id": "8qFpwJn7ciLx",
    "outputId": "e9e1f5f7-71ae-41e4-b191-1dee91b7333c"
   },
   "outputs": [
    {
     "data": {
      "text/plain": [
       "array([ 2.20000000e+01,  4.25165558e-03,  7.32135091e+00,  6.00000000e+00,\n",
       "        2.92148336e-01,  6.85411314e+00,  6.00000000e+00,  3.34549818e-01,\n",
       "        1.06816896e+00,  7.16580288e+02,  1.20000000e+01,  0.00000000e+00,\n",
       "        5.30342427e+02,  1.20000000e+01,  0.00000000e+00,  1.35116530e+00,\n",
       "        9.98124627e-01,  9.96249254e-01,  9.98352222e-01,  9.96704444e-01,\n",
       "        9.98697343e-01,  9.97394686e-01,  9.96249254e-01,  9.79565860e-01,\n",
       "        9.89782930e-01,  4.94891465e-01,  9.98140462e-01,  9.98124627e-01,\n",
       "        9.96704444e-01,  9.74152122e-01,  9.87076061e-01,  4.93538031e-01,\n",
       "        9.98371078e-01,  9.98352222e-01,  9.97394686e-01,  9.98697343e-01,\n",
       "       -3.66686045e+03, -3.66319978e+03,  7.37772090e+03,  7.48239898e+03,\n",
       "        8.61000000e+02,  7.41253284e+03,  1.25325348e+00,  1.19508682e+00,\n",
       "        2.26176188e-02,  0.00000000e+00,  6.94429738e-02,  9.00000000e-01,\n",
       "        7.89925895e-01,  5.00000000e-02,  1.69311900e-02,  8.00000000e-02,\n",
       "        1.81842544e-02,  0.00000000e+00,  6.57201349e-02,  8.29630172e-01,\n",
       "        1.05640614e-02,  1.87938378e-02,  0.00000000e+00,  6.94032961e-02,\n",
       "        8.00895830e-01,  1.76915675e-02,  3.45567328e-02,  4.08880776e-02,\n",
       "        2.78965693e-02,  2.78965693e-02,  3.30076659e-02,  2.89250947e-02,\n",
       "        3.73421367e-02,  2.79544637e-02,  3.12849052e-02,  1.48178637e+03,\n",
       "        1.97809969e+03,  9.99596007e-01,  9.98114702e-01,  2.14199144e-01,\n",
       "        9.99232959e-01,  5.96066793e-02])"
      ]
     },
     "execution_count": 46,
     "metadata": {},
     "output_type": "execute_result"
    }
   ],
   "source": [
    "# First option to specify the model \n",
    "ro.r(\"GP_model <-'GP =~ c(v1,v1)*EP + c(v2,v2)*HP + c(v3,v3)*DP + SP'\") # The loading of SP is not fixed.\n",
    "ro.r('fitBase <-lavaan::cfa(GP_model, data = Bergh, group = \"gender\", estimator = \"MLR\")')\n",
    "ro.r(\"fitMeasures(fitBase)\")"
   ]
  },
  {
   "cell_type": "markdown",
   "metadata": {},
   "source": [
    "Unfortunately, some of the information from the R object got lost during the printing of `fitMeasures(fitBase)`.\n",
    "\n",
    "So we create a small work around:"
   ]
  },
  {
   "cell_type": "code",
   "execution_count": 52,
   "metadata": {},
   "outputs": [
    {
     "name": "stdout",
     "output_type": "stream",
     "text": [
      "measure\n",
      "npar     22.000000\n",
      "fmin      0.004252\n",
      "chisq     7.321351\n",
      "df        6.000000\n",
      "pvalue    0.292148\n",
      "            ...   \n",
      "gfi       0.999596\n",
      "agfi      0.998115\n",
      "pgfi      0.214199\n",
      "mfi       0.999233\n",
      "ecvi      0.059607\n",
      "Name: value, Length: 78, dtype: float64\n"
     ]
    }
   ],
   "source": [
    "# Helper function to extract fit measures from the fitBase model\n",
    "def fit_measures(model_name):\n",
    "  ro.r(f\"\"\"\n",
    "      df_fit <- data.frame( measure = names(fitMeasures({model_name})),\n",
    "                            value   = unname(fitMeasures({model_name})),\n",
    "                            row.names = NULL )\n",
    "        \"\"\")\n",
    "  fit_df = pandas2ri.rpy2py(ro.r[\"df_fit\"])\n",
    "  fit_series = fit_df.set_index('measure')['value']  # Convert to series to facilitate access (e.g., fit_series['chisq'])\n",
    "  return fit_series\n",
    "\n",
    "fit = fit_measures('fitBase')\n",
    "print(fit)"
   ]
  },
  {
   "cell_type": "markdown",
   "metadata": {
    "id": "3tqAvoyUcuUV"
   },
   "source": [
    "#### Option 2 to specify the model\n",
    "\n",
    "In the second variant, we restrict all the loadings to be equal across groups\n",
    "using the `group.equal` argument. We then free up the SP loading through the\n",
    "`group.partial` argument.\n"
   ]
  },
  {
   "cell_type": "code",
   "execution_count": 53,
   "metadata": {
    "colab": {
     "base_uri": "https://localhost:8080/"
    },
    "executionInfo": {
     "elapsed": 422,
     "status": "ok",
     "timestamp": 1741900002382,
     "user": {
      "displayName": "Tim Dreßler",
      "userId": "10678244503421566183"
     },
     "user_tz": -60
    },
    "id": "S2O07Js7dadR",
    "outputId": "d3d5438b-ff3a-467e-ab61-cc34e94b09a2"
   },
   "outputs": [
    {
     "name": "stdout",
     "output_type": "stream",
     "text": [
      "measure\n",
      "npar     22.000000\n",
      "fmin      0.004252\n",
      "chisq     7.321351\n",
      "df        6.000000\n",
      "pvalue    0.292148\n",
      "            ...   \n",
      "gfi       0.999596\n",
      "agfi      0.998115\n",
      "pgfi      0.214199\n",
      "mfi       0.999233\n",
      "ecvi      0.059607\n",
      "Name: value, Length: 78, dtype: float64\n"
     ]
    }
   ],
   "source": [
    "# Second option to specify the model\n",
    "ro.r(\"GP_model <- 'GP =~ EP + HP + DP + SP'\")\n",
    "ro.r('fitBase <- lavaan::cfa(GP_model,data = Bergh, group = \"gender\", group.equal = c(\"loadings\"), group.partial = c(\"GP=~ SP\"), estimator = \"MLR\")')\n",
    "fit = fit_measures('fitBase')\n",
    "print(fit)"
   ]
  },
  {
   "cell_type": "markdown",
   "metadata": {
    "id": "3t3g_kVGdv4s"
   },
   "source": [
    "Both variants lead to the same results. Using our function `fit_measures()`, which uses the `fitMeasures(fitBase)`\n",
    "call, we get a $\\chi^2$-value of 7.321 (df = 6, p = 0.292), a RMSEA of 0.023 with a 90%\n",
    "CI of [0, 0.069], a CFI of 0.998, and an SRMR of 0.028. The model fits well.  \n",
    "\n",
    "Since the difference in intercepts between men and women is negligible for the\n",
    "EP indicator, we can force the intercepts to be equal for this indicator. Let us build on\n",
    "the second specification variant from above, in order to set up this model. Through\n",
    "group.equal we **constrain all loadings and intercepts to be equal across groups**\n",
    "and, subsequently, **free up the SP loading as well as the intercepts for DP, HP, and**\n",
    "**SP** using `group.partial`:"
   ]
  },
  {
   "cell_type": "code",
   "execution_count": 55,
   "metadata": {
    "colab": {
     "base_uri": "https://localhost:8080/"
    },
    "executionInfo": {
     "elapsed": 307,
     "status": "ok",
     "timestamp": 1741900003806,
     "user": {
      "displayName": "Tim Dreßler",
      "userId": "10678244503421566183"
     },
     "user_tz": -60
    },
    "id": "OFP7PJord1-Y",
    "outputId": "27c2a17f-08ee-414b-ac16-ff77ef91217a"
   },
   "outputs": [
    {
     "name": "stdout",
     "output_type": "stream",
     "text": [
      "measure\n",
      "npar     22.000000\n",
      "fmin      0.004252\n",
      "chisq     7.321351\n",
      "df        6.000000\n",
      "pvalue    0.292148\n",
      "            ...   \n",
      "gfi       0.999596\n",
      "agfi      0.998115\n",
      "pgfi      0.214199\n",
      "mfi       0.999233\n",
      "ecvi      0.059607\n",
      "Name: value, Length: 78, dtype: float64\n"
     ]
    }
   ],
   "source": [
    "ro.r(\"GP_model <- 'GP =~ EP + HP + DP + SP'\")\n",
    "\n",
    "ro.r(\"\"\"\n",
    "      fitBase1 <- lavaan::cfa(GP_model, data = Bergh,\n",
    "      group = \"gender\", group.equal = c(\"loadings\", \"intercepts\"),\n",
    "      group.partial = c(\"GP=~SP\", \"DP~1\", \"HP~1\", \"SP~1\"),\n",
    "      estimator = \"MLR\")\n",
    "     \"\"\")\n",
    "\n",
    "fit = fit_measures('fitBase1')\n",
    "print(fit)"
   ]
  },
  {
   "cell_type": "markdown",
   "metadata": {
    "id": "YMM51t6QeU65"
   },
   "source": [
    "Again, this model fits well. We now use this model as **baseline model** and\n",
    "**compare it to two additional models**. First **(1)**, we **constrain the SP loading to be 0**\n",
    "for the **women** (ingroup-outgroup model).We can specify this restriction directly in\n",
    "the model specification through `c(NA,0)`. *NA means free to vary* across men (first\n",
    "group), whereas the second element fixes the parameter to 0 for the women. Note\n",
    "that this is quite a restrictive assumption."
   ]
  },
  {
   "cell_type": "code",
   "execution_count": 59,
   "metadata": {
    "colab": {
     "base_uri": "https://localhost:8080/"
    },
    "executionInfo": {
     "elapsed": 298,
     "status": "ok",
     "timestamp": 1741900005380,
     "user": {
      "displayName": "Tim Dreßler",
      "userId": "10678244503421566183"
     },
     "user_tz": -60
    },
    "id": "sBypc0SbeVd4",
    "outputId": "9641423a-f892-4792-f1be-d827bd0ef9a4"
   },
   "outputs": [
    {
     "name": "stdout",
     "output_type": "stream",
     "text": [
      "measure\n",
      "npar      21.000000\n",
      "fmin       0.135747\n",
      "chisq    233.755525\n",
      "df         7.000000\n",
      "pvalue     0.000000\n",
      "            ...    \n",
      "gfi        0.991725\n",
      "agfi       0.966898\n",
      "pgfi       0.247931\n",
      "mfi        0.876620\n",
      "ecvi       0.320274\n",
      "Name: value, Length: 78, dtype: float64\n"
     ]
    }
   ],
   "source": [
    "ro.r(\"GP_model2 <- 'GP =~ c(v1,v1)*EP + c(v2,v2)*HP + c(v3,v3)*DP + c(NA, 0)*SP'\")\n",
    "\n",
    "ro.r(\"\"\"\n",
    "      fitIO <- lavaan::cfa(GP_model2, data = Bergh,\n",
    "      group = \"gender\", group.equal = c(\"intercepts\"),\n",
    "      group.partial = c(\"DP~1\", \"HP~1\", \"SP~1\"),\n",
    "      estimator = \"MLR\")\n",
    "     \"\"\")\n",
    "\n",
    "fit = fit_measures('fitIO')\n",
    "print(fit)\n"
   ]
  },
  {
   "cell_type": "markdown",
   "metadata": {
    "id": "-3Hukn-heiSE"
   },
   "source": [
    "It gives a $\\chi^2$-value of 233.756 (df = 7, p = 0), a RMSEA of 0.274 with a 90%\n",
    "CI of [0.245, 0.305], a CFI of 0.678, and an SRMR of 0.148. Bad fit.  \n",
    "\n",
    "In the next model **(2)**, we **restrict all the loadings to be equal** (**marginalization**\n",
    "**model**). The intercepts have the same constraints as above."
   ]
  },
  {
   "cell_type": "code",
   "execution_count": 61,
   "metadata": {
    "colab": {
     "base_uri": "https://localhost:8080/"
    },
    "executionInfo": {
     "elapsed": 320,
     "status": "ok",
     "timestamp": 1741900006723,
     "user": {
      "displayName": "Tim Dreßler",
      "userId": "10678244503421566183"
     },
     "user_tz": -60
    },
    "id": "bOKf86D9emTh",
    "outputId": "517ad4f2-77c8-46c7-bc1e-d5d06aa1bfb3"
   },
   "outputs": [
    {
     "name": "stdout",
     "output_type": "stream",
     "text": [
      "measure\n",
      "npar     21.000000\n",
      "fmin      0.008418\n",
      "chisq    14.495989\n",
      "df        7.000000\n",
      "pvalue    0.043031\n",
      "            ...   \n",
      "gfi       0.999212\n",
      "agfi      0.996849\n",
      "pgfi      0.249803\n",
      "mfi       0.995656\n",
      "ecvi      0.065617\n",
      "Name: value, Length: 78, dtype: float64\n"
     ]
    }
   ],
   "source": [
    "ro.r(\"\"\"\n",
    "     fitMarg <- lavaan::cfa(GP_model, data = Bergh,\n",
    "      group = \"gender\", group.equal = c(\"loadings\", \"intercepts\"),\n",
    "      group.partial = c(\"DP~1\", \"HP~1\", \"SP~1\"),\n",
    "      estimator = \"MLR\")\n",
    "     \"\"\")\n",
    "\n",
    "fit = fit_measures('fitMarg')\n",
    "print(fit)"
   ]
  },
  {
   "cell_type": "markdown",
   "metadata": {
    "id": "wJW1foREempr"
   },
   "source": [
    "We get a $\\chi^2$-value of 14.496 (df = 7, p = 0.043), a RMSEA of 0.05 with a 90%\n",
    "CI of [0.008, 0.086], a CFI of 0.989, and an SRMR of 0.036. In terms of goodness-of-fit statistics, we do not see much of a difference compared to the baseline model.\n",
    "Let us do some model comparison. Since the marginalization model is nested in\n",
    "the basemodel, we can apply the following $\\chi^2$-difference test. Note that a **significant**\n",
    "**result suggests that the higher parametrized model fits significantly worse**."
   ]
  },
  {
   "cell_type": "code",
   "execution_count": 62,
   "metadata": {
    "colab": {
     "base_uri": "https://localhost:8080/"
    },
    "executionInfo": {
     "elapsed": 10,
     "status": "ok",
     "timestamp": 1741900007618,
     "user": {
      "displayName": "Tim Dreßler",
      "userId": "10678244503421566183"
     },
     "user_tz": -60
    },
    "id": "5C-MeLn1evQz",
    "outputId": "20cd6116-623a-4628-8796-961fa3a8c264"
   },
   "outputs": [
    {
     "name": "stdout",
     "output_type": "stream",
     "text": [
      "\n",
      "Scaled Chi-Squared Difference Test (method = \"satorra.bentler.2001\")\n",
      "\n",
      "lavaan->lavTestLRT():  \n",
      "   lavaan NOTE: The \"Chisq\" column contains standard test statistics, not the \n",
      "   robust test that should be reported per model. A robust difference test is \n",
      "   a function of two standard (not robust) statistics.\n",
      "         Df    AIC    BIC   Chisq Chisq diff Df diff Pr(>Chisq)  \n",
      "fitBase1  6 7377.7 7482.4  7.3214                                \n",
      "fitMarg   7 7382.9 7482.8 14.4960     6.4063       1    0.01137 *\n",
      "---\n",
      "Signif. codes:  0 '***' 0.001 '**' 0.01 '*' 0.05 '.' 0.1 ' ' 1\n",
      "\n"
     ]
    }
   ],
   "source": [
    "print(ro.r(\"anova(fitMarg, fitBase1)\"))"
   ]
  },
  {
   "cell_type": "markdown",
   "metadata": {
    "id": "ktEGJV7pe8yy"
   },
   "source": [
    "Even though significant, the AIC/BIC barely differ across the two groups,\n",
    "and from the fit indices above, we learned that both models fit well. Thus, the\n",
    "**marginalization model may be an attractive option to go with**.  \n",
    "    \n",
    "#### Conclusions\n",
    "\n",
    "The alternative approach presented here may be quite confusing as it wasn't covered in the lecture. So lets put it in words.  \n",
    "\n",
    "The goal here is to investigate the between-group measurement (in)variance of *one specific* indicator. In the approach mentioned before (and in the lecture) we investigated whether measurement invariance holds for *all* indicators.  \n",
    "\n",
    "As you might have guessed, the indicator we are investigating in this alternative approach is `SP`. Let us revisit the steps:\n",
    "\n",
    "1. We fit a model in which all loadings but the one from `SP` are fixed (`FitBase1`).\n",
    "\n",
    "2. We fit alternative models with alternative properties of the `SP` laodings (all the other loadings stay the same). (`GP_model2`: Fix `SP` loading for women but not for men; `fitMarg`: Fix all loadings).\n",
    "\n",
    "3. We compare model fits. Let us check the comparison of `fitMarg`and `fitBase1` again:"
   ]
  },
  {
   "cell_type": "code",
   "execution_count": 13,
   "metadata": {
    "colab": {
     "base_uri": "https://localhost:8080/"
    },
    "executionInfo": {
     "elapsed": 15,
     "status": "ok",
     "timestamp": 1741900008775,
     "user": {
      "displayName": "Tim Dreßler",
      "userId": "10678244503421566183"
     },
     "user_tz": -60
    },
    "id": "PZ9A-LH0e9P5",
    "outputId": "395d6f0e-3754-4509-e214-c736743b28a1"
   },
   "outputs": [
    {
     "name": "stdout",
     "output_type": "stream",
     "text": [
      "\n",
      "Scaled Chi-Squared Difference Test (method = “satorra.bentler.2001”)\n",
      "\n",
      "lavaan->lavTestLRT():  \n",
      "   lavaan NOTE: The “Chisq” column contains standard test statistics, not the \n",
      "   robust test that should be reported per model. A robust difference test is \n",
      "   a function of two standard (not robust) statistics.\n",
      "         Df    AIC    BIC   Chisq Chisq diff Df diff Pr(>Chisq)  \n",
      "fitBase1  6 7377.7 7482.4  7.3214                                \n",
      "fitMarg   7 7382.9 7482.8 14.4960     6.4063       1    0.01137 *\n",
      "---\n",
      "Signif. codes:  0 ‘***’ 0.001 ‘**’ 0.01 ‘*’ 0.05 ‘.’ 0.1 ‘ ’ 1\n",
      "\n"
     ]
    }
   ],
   "source": [
    "print(ro.r(\"anova(fitMarg, fitBase1)\"))"
   ]
  },
  {
   "cell_type": "markdown",
   "metadata": {
    "id": "DWJJc7NkfEOC"
   },
   "source": [
    "Before we look at the values, lets think about what this comparison is good for. In the `fitBase1` model we allow the loadings of `SP` to vary between men and women. In the `fitMarg` model we assume them to be equal for both groups. Now we can apply our 'normal' principle again: If the more restrictive model that assumes measurement invariance (`fitMarg`) **is not significantly worse** than the model that allows the loadings to vary (`fitBase1`) **we assume measurement invariance**. The critical point here is that we only investigated measurement invaraince for *one* indicator (`SP`) and not for the whole model (as done in the previous section).\n"
   ]
  }
 ],
 "metadata": {
  "colab": {
   "provenance": [
    {
     "file_id": "1shSM8oE3V3nElvkpfKPtfJNamsVKnTSR",
     "timestamp": 1741293629262
    },
    {
     "file_id": "1oY59GO8mlzEJZlf-csY2pKRUXDCCIMFo",
     "timestamp": 1741164113567
    },
    {
     "file_id": "1_Hdy9GX2W03RQoKnijnEid9-KJzzTmJi",
     "timestamp": 1740862927421
    }
   ]
  },
  "kernelspec": {
   "display_name": "psy126",
   "language": "python",
   "name": "python3"
  },
  "language_info": {
   "codemirror_mode": {
    "name": "ipython",
    "version": 3
   },
   "file_extension": ".py",
   "mimetype": "text/x-python",
   "name": "python",
   "nbconvert_exporter": "python",
   "pygments_lexer": "ipython3",
   "version": "3.13.3"
  }
 },
 "nbformat": 4,
 "nbformat_minor": 0
}
